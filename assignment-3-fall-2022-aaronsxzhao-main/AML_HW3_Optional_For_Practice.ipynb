{
  "nbformat": 4,
  "nbformat_minor": 0,
  "metadata": {
    "colab": {
      "provenance": [],
      "collapsed_sections": []
    },
    "kernelspec": {
      "name": "python3",
      "display_name": "Python 3"
    },
    "language_info": {
      "name": "python"
    }
  },
  "cells": [
    {
      "cell_type": "markdown",
      "source": [
        "# Part 2: Unsupervised Learning (Optional for Submission will not be considered for grading Submit as a sepearte notebook if you plan to submit)\n",
        "\n",
        "In this part, we will be applying unsupervised learning approaches to a problem in computational biology. Specifically, we will be analyzing Mice Protein Expression Data Set.\n",
        "\n",
        "The data set consists of the expression levels of 77 proteins/protein modifications that produced detectable signals in the nuclear fraction of cortex. There are 38 control mice and 34 trisomic mice (Down syndrome), for a total of 72 mice. In the experiments, 15 measurements were registered of each protein per sample/mouse. Therefore, for control mice, there are 38x15, or 570 measurements, and for trisomic mice, there are 34x15, or 510 measurements. The dataset contains a total of 1080 measurements per protein. Each measurement can be considered as an independent sample/mouse.\n",
        "\n",
        "The eight classes of mice are described based on features such as genotype, behavior and treatment. According to genotype, mice can be control or trisomic. According to behavior, some mice have been stimulated to learn (context-shock) and others have not (shock-context) and in order to assess the effect of the drug memantine in recovering the ability to learn in trisomic mice, some mice have been injected with the drug and others have not.\n",
        "\n",
        "### **Classes:**\n",
        "\n",
        "c-CS-s: control mice, stimulated to learn, injected with saline (9 mice)\n",
        "\n",
        "c-CS-m: control mice, stimulated to learn, injected with memantine (10 mice)\n",
        "\n",
        "c-SC-s: control mice, not stimulated to learn, injected with saline (9 mice)\n",
        "\n",
        "c-SC-m: control mice, not stimulated to learn, injected with memantine (10 mice)\n",
        "\n",
        "t-CS-s: trisomy mice, stimulated to learn, injected with saline (7 mice)\n",
        "\n",
        "t-CS-m: trisomy mice, stimulated to learn, injected with memantine (9 mice)\n",
        "\n",
        "t-SC-s: trisomy mice, not stimulated to learn, injected with saline (9 mice)\n",
        "\n",
        "t-SC-m: trisomy mice, not stimulated to learn, injected with memantine (9 mice)\n",
        "\n",
        "### **Source** :\n",
        "https://archive.ics.uci.edu/ml/datasets/Mice+Protein+Expression\n",
        "\n",
        "Expression levels of 77 proteins measured in the cerebral cortex of 8 classes of control and Down syndrome mice exposed to context fear conditioning, a task used to assess associative learning.\n",
        "\n",
        "Dataset: Mice Protein Expression Data Set\n",
        "\n",
        "### **Attribute Information:**\n",
        "\n",
        "1 Mouse ID\n",
        "\n",
        "2..78 Values of expression levels of 77 proteins; the names of proteins are followed by â€œ_nâ€ indicating that they were measured in the nuclear fraction. For example: DYRK1A_n\n",
        "\n",
        "79 Genotype: control (c) or trisomy (t)\n",
        "\n",
        "80 Treatment type: memantine (m) or saline (s)\n",
        "\n",
        "81 Behavior: context-shock (CS) or shock-context (SC)\n",
        "\n",
        "82 Class: c-CS-s, c-CS-m, c-SC-s, c-SC-m, t-CS-s, t-CS-m, t-SC-s, t-SC-m\n",
        "\n",
        "Data source is on Coursework."
      ],
      "metadata": {
        "id": "mnilMnWxa4Qs"
      }
    },
    {
      "cell_type": "markdown",
      "source": [
        "## Loading Dataset"
      ],
      "metadata": {
        "id": "JY2M9dI5k8F7"
      }
    },
    {
      "cell_type": "code",
      "source": [
        "mice_pro_df1 = pd.read_csv('/content/Data_Cortex_Nuclear.csv')\n",
        "mice_pro_df1"
      ],
      "metadata": {
        "colab": {
          "base_uri": "https://localhost:8080/",
          "height": 424
        },
        "id": "mnSmIWg67cRL",
        "outputId": "15c1ef71-5213-43e1-aa54-c3297316f724"
      },
      "execution_count": null,
      "outputs": [
        {
          "output_type": "execute_result",
          "data": {
            "text/plain": [
              "       MouseID  DYRK1A_N   ITSN1_N    BDNF_N     NR1_N    NR2A_N    pAKT_N  \\\n",
              "0        309_1  0.503644  0.747193  0.430175  2.816329  5.990152  0.218830   \n",
              "1        309_2  0.514617  0.689064  0.411770  2.789514  5.685038  0.211636   \n",
              "2        309_3  0.509183  0.730247  0.418309  2.687201  5.622059  0.209011   \n",
              "3        309_4  0.442107  0.617076  0.358626  2.466947  4.979503  0.222886   \n",
              "4        309_5  0.434940  0.617430  0.358802  2.365785  4.718679  0.213106   \n",
              "...        ...       ...       ...       ...       ...       ...       ...   \n",
              "1075  J3295_11  0.254860  0.463591  0.254860  2.092082  2.600035  0.211736   \n",
              "1076  J3295_12  0.272198  0.474163  0.251638  2.161390  2.801492  0.251274   \n",
              "1077  J3295_13  0.228700  0.395179  0.234118  1.733184  2.220852  0.220665   \n",
              "1078  J3295_14  0.221242  0.412894  0.243974  1.876347  2.384088  0.208897   \n",
              "1079  J3295_15  0.302626  0.461059  0.256564  2.092790  2.594348  0.251001   \n",
              "\n",
              "       pBRAF_N  pCAMKII_N   pCREB_N  ...   pCFOS_N     SYP_N  H3AcK18_N  \\\n",
              "0     0.177565   2.373744  0.232224  ...  0.108336  0.427099   0.114783   \n",
              "1     0.172817   2.292150  0.226972  ...  0.104315  0.441581   0.111974   \n",
              "2     0.175722   2.283337  0.230247  ...  0.106219  0.435777   0.111883   \n",
              "3     0.176463   2.152301  0.207004  ...  0.111262  0.391691   0.130405   \n",
              "4     0.173627   2.134014  0.192158  ...  0.110694  0.434154   0.118481   \n",
              "...        ...        ...       ...  ...       ...       ...        ...   \n",
              "1075  0.171262   2.483740  0.207317  ...  0.183324  0.374088   0.318782   \n",
              "1076  0.182496   2.512737  0.216339  ...  0.175674  0.375259   0.325639   \n",
              "1077  0.161435   1.989723  0.185164  ...  0.158296  0.422121   0.321306   \n",
              "1078  0.173623   2.086028  0.192044  ...  0.196296  0.397676   0.335936   \n",
              "1079  0.191811   2.361816  0.223632  ...  0.187556  0.420347   0.335062   \n",
              "\n",
              "        EGR1_N  H3MeK4_N    CaNA_N  Genotype  Treatment  Behavior   class  \n",
              "0     0.131790  0.128186  1.675652   Control  Memantine       C/S  c-CS-m  \n",
              "1     0.135103  0.131119  1.743610   Control  Memantine       C/S  c-CS-m  \n",
              "2     0.133362  0.127431  1.926427   Control  Memantine       C/S  c-CS-m  \n",
              "3     0.147444  0.146901  1.700563   Control  Memantine       C/S  c-CS-m  \n",
              "4     0.140314  0.148380  1.839730   Control  Memantine       C/S  c-CS-m  \n",
              "...        ...       ...       ...       ...        ...       ...     ...  \n",
              "1075  0.204660  0.328327  1.364823    Ts65Dn     Saline       S/C  t-SC-s  \n",
              "1076  0.200415  0.293435  1.364478    Ts65Dn     Saline       S/C  t-SC-s  \n",
              "1077  0.229193  0.355213  1.430825    Ts65Dn     Saline       S/C  t-SC-s  \n",
              "1078  0.251317  0.365353  1.404031    Ts65Dn     Saline       S/C  t-SC-s  \n",
              "1079  0.252995  0.365278  1.370999    Ts65Dn     Saline       S/C  t-SC-s  \n",
              "\n",
              "[1080 rows x 82 columns]"
            ],
            "text/html": [
              "\n",
              "  <div id=\"df-14fe3d05-79f0-4be6-bd10-bd519670c860\">\n",
              "    <div class=\"colab-df-container\">\n",
              "      <div>\n",
              "<style scoped>\n",
              "    .dataframe tbody tr th:only-of-type {\n",
              "        vertical-align: middle;\n",
              "    }\n",
              "\n",
              "    .dataframe tbody tr th {\n",
              "        vertical-align: top;\n",
              "    }\n",
              "\n",
              "    .dataframe thead th {\n",
              "        text-align: right;\n",
              "    }\n",
              "</style>\n",
              "<table border=\"1\" class=\"dataframe\">\n",
              "  <thead>\n",
              "    <tr style=\"text-align: right;\">\n",
              "      <th></th>\n",
              "      <th>MouseID</th>\n",
              "      <th>DYRK1A_N</th>\n",
              "      <th>ITSN1_N</th>\n",
              "      <th>BDNF_N</th>\n",
              "      <th>NR1_N</th>\n",
              "      <th>NR2A_N</th>\n",
              "      <th>pAKT_N</th>\n",
              "      <th>pBRAF_N</th>\n",
              "      <th>pCAMKII_N</th>\n",
              "      <th>pCREB_N</th>\n",
              "      <th>...</th>\n",
              "      <th>pCFOS_N</th>\n",
              "      <th>SYP_N</th>\n",
              "      <th>H3AcK18_N</th>\n",
              "      <th>EGR1_N</th>\n",
              "      <th>H3MeK4_N</th>\n",
              "      <th>CaNA_N</th>\n",
              "      <th>Genotype</th>\n",
              "      <th>Treatment</th>\n",
              "      <th>Behavior</th>\n",
              "      <th>class</th>\n",
              "    </tr>\n",
              "  </thead>\n",
              "  <tbody>\n",
              "    <tr>\n",
              "      <th>0</th>\n",
              "      <td>309_1</td>\n",
              "      <td>0.503644</td>\n",
              "      <td>0.747193</td>\n",
              "      <td>0.430175</td>\n",
              "      <td>2.816329</td>\n",
              "      <td>5.990152</td>\n",
              "      <td>0.218830</td>\n",
              "      <td>0.177565</td>\n",
              "      <td>2.373744</td>\n",
              "      <td>0.232224</td>\n",
              "      <td>...</td>\n",
              "      <td>0.108336</td>\n",
              "      <td>0.427099</td>\n",
              "      <td>0.114783</td>\n",
              "      <td>0.131790</td>\n",
              "      <td>0.128186</td>\n",
              "      <td>1.675652</td>\n",
              "      <td>Control</td>\n",
              "      <td>Memantine</td>\n",
              "      <td>C/S</td>\n",
              "      <td>c-CS-m</td>\n",
              "    </tr>\n",
              "    <tr>\n",
              "      <th>1</th>\n",
              "      <td>309_2</td>\n",
              "      <td>0.514617</td>\n",
              "      <td>0.689064</td>\n",
              "      <td>0.411770</td>\n",
              "      <td>2.789514</td>\n",
              "      <td>5.685038</td>\n",
              "      <td>0.211636</td>\n",
              "      <td>0.172817</td>\n",
              "      <td>2.292150</td>\n",
              "      <td>0.226972</td>\n",
              "      <td>...</td>\n",
              "      <td>0.104315</td>\n",
              "      <td>0.441581</td>\n",
              "      <td>0.111974</td>\n",
              "      <td>0.135103</td>\n",
              "      <td>0.131119</td>\n",
              "      <td>1.743610</td>\n",
              "      <td>Control</td>\n",
              "      <td>Memantine</td>\n",
              "      <td>C/S</td>\n",
              "      <td>c-CS-m</td>\n",
              "    </tr>\n",
              "    <tr>\n",
              "      <th>2</th>\n",
              "      <td>309_3</td>\n",
              "      <td>0.509183</td>\n",
              "      <td>0.730247</td>\n",
              "      <td>0.418309</td>\n",
              "      <td>2.687201</td>\n",
              "      <td>5.622059</td>\n",
              "      <td>0.209011</td>\n",
              "      <td>0.175722</td>\n",
              "      <td>2.283337</td>\n",
              "      <td>0.230247</td>\n",
              "      <td>...</td>\n",
              "      <td>0.106219</td>\n",
              "      <td>0.435777</td>\n",
              "      <td>0.111883</td>\n",
              "      <td>0.133362</td>\n",
              "      <td>0.127431</td>\n",
              "      <td>1.926427</td>\n",
              "      <td>Control</td>\n",
              "      <td>Memantine</td>\n",
              "      <td>C/S</td>\n",
              "      <td>c-CS-m</td>\n",
              "    </tr>\n",
              "    <tr>\n",
              "      <th>3</th>\n",
              "      <td>309_4</td>\n",
              "      <td>0.442107</td>\n",
              "      <td>0.617076</td>\n",
              "      <td>0.358626</td>\n",
              "      <td>2.466947</td>\n",
              "      <td>4.979503</td>\n",
              "      <td>0.222886</td>\n",
              "      <td>0.176463</td>\n",
              "      <td>2.152301</td>\n",
              "      <td>0.207004</td>\n",
              "      <td>...</td>\n",
              "      <td>0.111262</td>\n",
              "      <td>0.391691</td>\n",
              "      <td>0.130405</td>\n",
              "      <td>0.147444</td>\n",
              "      <td>0.146901</td>\n",
              "      <td>1.700563</td>\n",
              "      <td>Control</td>\n",
              "      <td>Memantine</td>\n",
              "      <td>C/S</td>\n",
              "      <td>c-CS-m</td>\n",
              "    </tr>\n",
              "    <tr>\n",
              "      <th>4</th>\n",
              "      <td>309_5</td>\n",
              "      <td>0.434940</td>\n",
              "      <td>0.617430</td>\n",
              "      <td>0.358802</td>\n",
              "      <td>2.365785</td>\n",
              "      <td>4.718679</td>\n",
              "      <td>0.213106</td>\n",
              "      <td>0.173627</td>\n",
              "      <td>2.134014</td>\n",
              "      <td>0.192158</td>\n",
              "      <td>...</td>\n",
              "      <td>0.110694</td>\n",
              "      <td>0.434154</td>\n",
              "      <td>0.118481</td>\n",
              "      <td>0.140314</td>\n",
              "      <td>0.148380</td>\n",
              "      <td>1.839730</td>\n",
              "      <td>Control</td>\n",
              "      <td>Memantine</td>\n",
              "      <td>C/S</td>\n",
              "      <td>c-CS-m</td>\n",
              "    </tr>\n",
              "    <tr>\n",
              "      <th>...</th>\n",
              "      <td>...</td>\n",
              "      <td>...</td>\n",
              "      <td>...</td>\n",
              "      <td>...</td>\n",
              "      <td>...</td>\n",
              "      <td>...</td>\n",
              "      <td>...</td>\n",
              "      <td>...</td>\n",
              "      <td>...</td>\n",
              "      <td>...</td>\n",
              "      <td>...</td>\n",
              "      <td>...</td>\n",
              "      <td>...</td>\n",
              "      <td>...</td>\n",
              "      <td>...</td>\n",
              "      <td>...</td>\n",
              "      <td>...</td>\n",
              "      <td>...</td>\n",
              "      <td>...</td>\n",
              "      <td>...</td>\n",
              "      <td>...</td>\n",
              "    </tr>\n",
              "    <tr>\n",
              "      <th>1075</th>\n",
              "      <td>J3295_11</td>\n",
              "      <td>0.254860</td>\n",
              "      <td>0.463591</td>\n",
              "      <td>0.254860</td>\n",
              "      <td>2.092082</td>\n",
              "      <td>2.600035</td>\n",
              "      <td>0.211736</td>\n",
              "      <td>0.171262</td>\n",
              "      <td>2.483740</td>\n",
              "      <td>0.207317</td>\n",
              "      <td>...</td>\n",
              "      <td>0.183324</td>\n",
              "      <td>0.374088</td>\n",
              "      <td>0.318782</td>\n",
              "      <td>0.204660</td>\n",
              "      <td>0.328327</td>\n",
              "      <td>1.364823</td>\n",
              "      <td>Ts65Dn</td>\n",
              "      <td>Saline</td>\n",
              "      <td>S/C</td>\n",
              "      <td>t-SC-s</td>\n",
              "    </tr>\n",
              "    <tr>\n",
              "      <th>1076</th>\n",
              "      <td>J3295_12</td>\n",
              "      <td>0.272198</td>\n",
              "      <td>0.474163</td>\n",
              "      <td>0.251638</td>\n",
              "      <td>2.161390</td>\n",
              "      <td>2.801492</td>\n",
              "      <td>0.251274</td>\n",
              "      <td>0.182496</td>\n",
              "      <td>2.512737</td>\n",
              "      <td>0.216339</td>\n",
              "      <td>...</td>\n",
              "      <td>0.175674</td>\n",
              "      <td>0.375259</td>\n",
              "      <td>0.325639</td>\n",
              "      <td>0.200415</td>\n",
              "      <td>0.293435</td>\n",
              "      <td>1.364478</td>\n",
              "      <td>Ts65Dn</td>\n",
              "      <td>Saline</td>\n",
              "      <td>S/C</td>\n",
              "      <td>t-SC-s</td>\n",
              "    </tr>\n",
              "    <tr>\n",
              "      <th>1077</th>\n",
              "      <td>J3295_13</td>\n",
              "      <td>0.228700</td>\n",
              "      <td>0.395179</td>\n",
              "      <td>0.234118</td>\n",
              "      <td>1.733184</td>\n",
              "      <td>2.220852</td>\n",
              "      <td>0.220665</td>\n",
              "      <td>0.161435</td>\n",
              "      <td>1.989723</td>\n",
              "      <td>0.185164</td>\n",
              "      <td>...</td>\n",
              "      <td>0.158296</td>\n",
              "      <td>0.422121</td>\n",
              "      <td>0.321306</td>\n",
              "      <td>0.229193</td>\n",
              "      <td>0.355213</td>\n",
              "      <td>1.430825</td>\n",
              "      <td>Ts65Dn</td>\n",
              "      <td>Saline</td>\n",
              "      <td>S/C</td>\n",
              "      <td>t-SC-s</td>\n",
              "    </tr>\n",
              "    <tr>\n",
              "      <th>1078</th>\n",
              "      <td>J3295_14</td>\n",
              "      <td>0.221242</td>\n",
              "      <td>0.412894</td>\n",
              "      <td>0.243974</td>\n",
              "      <td>1.876347</td>\n",
              "      <td>2.384088</td>\n",
              "      <td>0.208897</td>\n",
              "      <td>0.173623</td>\n",
              "      <td>2.086028</td>\n",
              "      <td>0.192044</td>\n",
              "      <td>...</td>\n",
              "      <td>0.196296</td>\n",
              "      <td>0.397676</td>\n",
              "      <td>0.335936</td>\n",
              "      <td>0.251317</td>\n",
              "      <td>0.365353</td>\n",
              "      <td>1.404031</td>\n",
              "      <td>Ts65Dn</td>\n",
              "      <td>Saline</td>\n",
              "      <td>S/C</td>\n",
              "      <td>t-SC-s</td>\n",
              "    </tr>\n",
              "    <tr>\n",
              "      <th>1079</th>\n",
              "      <td>J3295_15</td>\n",
              "      <td>0.302626</td>\n",
              "      <td>0.461059</td>\n",
              "      <td>0.256564</td>\n",
              "      <td>2.092790</td>\n",
              "      <td>2.594348</td>\n",
              "      <td>0.251001</td>\n",
              "      <td>0.191811</td>\n",
              "      <td>2.361816</td>\n",
              "      <td>0.223632</td>\n",
              "      <td>...</td>\n",
              "      <td>0.187556</td>\n",
              "      <td>0.420347</td>\n",
              "      <td>0.335062</td>\n",
              "      <td>0.252995</td>\n",
              "      <td>0.365278</td>\n",
              "      <td>1.370999</td>\n",
              "      <td>Ts65Dn</td>\n",
              "      <td>Saline</td>\n",
              "      <td>S/C</td>\n",
              "      <td>t-SC-s</td>\n",
              "    </tr>\n",
              "  </tbody>\n",
              "</table>\n",
              "<p>1080 rows × 82 columns</p>\n",
              "</div>\n",
              "      <button class=\"colab-df-convert\" onclick=\"convertToInteractive('df-14fe3d05-79f0-4be6-bd10-bd519670c860')\"\n",
              "              title=\"Convert this dataframe to an interactive table.\"\n",
              "              style=\"display:none;\">\n",
              "        \n",
              "  <svg xmlns=\"http://www.w3.org/2000/svg\" height=\"24px\"viewBox=\"0 0 24 24\"\n",
              "       width=\"24px\">\n",
              "    <path d=\"M0 0h24v24H0V0z\" fill=\"none\"/>\n",
              "    <path d=\"M18.56 5.44l.94 2.06.94-2.06 2.06-.94-2.06-.94-.94-2.06-.94 2.06-2.06.94zm-11 1L8.5 8.5l.94-2.06 2.06-.94-2.06-.94L8.5 2.5l-.94 2.06-2.06.94zm10 10l.94 2.06.94-2.06 2.06-.94-2.06-.94-.94-2.06-.94 2.06-2.06.94z\"/><path d=\"M17.41 7.96l-1.37-1.37c-.4-.4-.92-.59-1.43-.59-.52 0-1.04.2-1.43.59L10.3 9.45l-7.72 7.72c-.78.78-.78 2.05 0 2.83L4 21.41c.39.39.9.59 1.41.59.51 0 1.02-.2 1.41-.59l7.78-7.78 2.81-2.81c.8-.78.8-2.07 0-2.86zM5.41 20L4 18.59l7.72-7.72 1.47 1.35L5.41 20z\"/>\n",
              "  </svg>\n",
              "      </button>\n",
              "      \n",
              "  <style>\n",
              "    .colab-df-container {\n",
              "      display:flex;\n",
              "      flex-wrap:wrap;\n",
              "      gap: 12px;\n",
              "    }\n",
              "\n",
              "    .colab-df-convert {\n",
              "      background-color: #E8F0FE;\n",
              "      border: none;\n",
              "      border-radius: 50%;\n",
              "      cursor: pointer;\n",
              "      display: none;\n",
              "      fill: #1967D2;\n",
              "      height: 32px;\n",
              "      padding: 0 0 0 0;\n",
              "      width: 32px;\n",
              "    }\n",
              "\n",
              "    .colab-df-convert:hover {\n",
              "      background-color: #E2EBFA;\n",
              "      box-shadow: 0px 1px 2px rgba(60, 64, 67, 0.3), 0px 1px 3px 1px rgba(60, 64, 67, 0.15);\n",
              "      fill: #174EA6;\n",
              "    }\n",
              "\n",
              "    [theme=dark] .colab-df-convert {\n",
              "      background-color: #3B4455;\n",
              "      fill: #D2E3FC;\n",
              "    }\n",
              "\n",
              "    [theme=dark] .colab-df-convert:hover {\n",
              "      background-color: #434B5C;\n",
              "      box-shadow: 0px 1px 3px 1px rgba(0, 0, 0, 0.15);\n",
              "      filter: drop-shadow(0px 1px 2px rgba(0, 0, 0, 0.3));\n",
              "      fill: #FFFFFF;\n",
              "    }\n",
              "  </style>\n",
              "\n",
              "      <script>\n",
              "        const buttonEl =\n",
              "          document.querySelector('#df-14fe3d05-79f0-4be6-bd10-bd519670c860 button.colab-df-convert');\n",
              "        buttonEl.style.display =\n",
              "          google.colab.kernel.accessAllowed ? 'block' : 'none';\n",
              "\n",
              "        async function convertToInteractive(key) {\n",
              "          const element = document.querySelector('#df-14fe3d05-79f0-4be6-bd10-bd519670c860');\n",
              "          const dataTable =\n",
              "            await google.colab.kernel.invokeFunction('convertToInteractive',\n",
              "                                                     [key], {});\n",
              "          if (!dataTable) return;\n",
              "\n",
              "          const docLinkHtml = 'Like what you see? Visit the ' +\n",
              "            '<a target=\"_blank\" href=https://colab.research.google.com/notebooks/data_table.ipynb>data table notebook</a>'\n",
              "            + ' to learn more about interactive tables.';\n",
              "          element.innerHTML = '';\n",
              "          dataTable['output_type'] = 'display_data';\n",
              "          await google.colab.output.renderOutput(dataTable, element);\n",
              "          const docLink = document.createElement('div');\n",
              "          docLink.innerHTML = docLinkHtml;\n",
              "          element.appendChild(docLink);\n",
              "        }\n",
              "      </script>\n",
              "    </div>\n",
              "  </div>\n",
              "  "
            ]
          },
          "metadata": {},
          "execution_count": 2
        }
      ]
    },
    {
      "cell_type": "markdown",
      "source": [
        "## Check for missing values\n",
        "\n",
        "**2.0.1 Check for missing values in the dataset get count of missing values in all columns**"
      ],
      "metadata": {
        "id": "uBm2nkbdk_dG"
      }
    },
    {
      "cell_type": "code",
      "source": [
        "# Your code here"
      ],
      "metadata": {
        "id": "Lg0hsU4CexLy"
      },
      "execution_count": null,
      "outputs": []
    },
    {
      "cell_type": "markdown",
      "source": [
        "## Impute the missing variables using multivariate feature imputation\n",
        "\n",
        "**2.0.2 Impute the missing variables using multivariate feature imputation (use IterativeImputer from sklearn.impute).** Make sure you remove categorical variables before imputing and Scaling"
      ],
      "metadata": {
        "id": "JOn2xZ8HlJjJ"
      }
    },
    {
      "cell_type": "code",
      "source": [
        "# Your code here"
      ],
      "metadata": {
        "id": "AS0CorJ3fu0I"
      },
      "execution_count": null,
      "outputs": []
    },
    {
      "cell_type": "markdown",
      "source": [
        "## Scale the data using standardScaler\n",
        "\n",
        "**2.0.3 Scale the data using StandardScaler**"
      ],
      "metadata": {
        "id": "J0J-FLxRlUZ5"
      }
    },
    {
      "cell_type": "code",
      "source": [
        "# Your code here"
      ],
      "metadata": {
        "id": "3kQg3JjAfvju"
      },
      "execution_count": null,
      "outputs": []
    },
    {
      "cell_type": "markdown",
      "source": [
        "Our goal in this exercise is to use dimensionality reduction and clustering to visualize and better understand the high-dimensional protein matrix. We will use the following pipeline:\n",
        "\n",
        "Use PCA to project the protein matrix to a lower-dimensional linear subspace.\n",
        "Cluster the data using K-means on the first 50 principal components.\n",
        "Use t-SNE to project the first 20 principal components onto two dimensions. Visualize the points and color by their clusters from (2)."
      ],
      "metadata": {
        "id": "mvwZUaTN9L-_"
      }
    },
    {
      "cell_type": "markdown",
      "source": [
        "## 2.1 PCA\n",
        "**2.1.1 Perform PCA and project the protein matrix onto its first 50 principal components. You may use sklearn.decomposition.PCA.**"
      ],
      "metadata": {
        "id": "VfSsLMA07mO0"
      }
    },
    {
      "cell_type": "code",
      "source": [
        "# Your code here"
      ],
      "metadata": {
        "id": "m44bJ6OQ7vhB"
      },
      "execution_count": null,
      "outputs": []
    },
    {
      "cell_type": "markdown",
      "source": [
        "**2.1.2 Plot the cumulative proportion of variance explained as a function of the number of principal components. How much of the total variance in the dataset is explained by the first 20 principal components?**"
      ],
      "metadata": {
        "id": "UR84_ySP8Aap"
      }
    },
    {
      "cell_type": "code",
      "source": [
        "# Your code here"
      ],
      "metadata": {
        "id": "zrXr-RUW78Qd"
      },
      "execution_count": null,
      "outputs": []
    },
    {
      "cell_type": "markdown",
      "source": [
        "**2.1.3 For the first principal component, report the top 10 loadings (weights) and their corresponding protein names.** In other words, which 10 proteins are weighted the most in the first principal component?\n"
      ],
      "metadata": {
        "id": "36CPzQI28KqK"
      }
    },
    {
      "cell_type": "code",
      "source": [
        "# Your code here"
      ],
      "metadata": {
        "id": "zv1OWvM7mKSp"
      },
      "execution_count": null,
      "outputs": []
    },
    {
      "cell_type": "markdown",
      "source": [
        "**2.1.4 Plot the projection of the data onto the first two principal components using a scatter plot.**"
      ],
      "metadata": {
        "id": "BWwPa2dK8com"
      }
    },
    {
      "cell_type": "code",
      "source": [
        "# Your code here"
      ],
      "metadata": {
        "id": "txrtq-Hj8eGs"
      },
      "execution_count": null,
      "outputs": []
    },
    {
      "cell_type": "markdown",
      "source": [
        "**2.1.5 Now, use a small multiple of four scatter plots to make the same plot as above, but colored by four annotations in the categorical columns: 'Genotype', 'Treatment', 'Behavior', 'class'. Include a legend for the labels.** For example, one of the plots should have points projected onto PC 1 and PC 2, colored by their Genotype."
      ],
      "metadata": {
        "id": "6MtWEok-8iPW"
      }
    },
    {
      "cell_type": "code",
      "source": [
        "# Your code here"
      ],
      "metadata": {
        "id": "D7PMa62v8sUw"
      },
      "execution_count": null,
      "outputs": []
    },
    {
      "cell_type": "markdown",
      "source": [
        "**2.1.6 Based on the plots above, the first two principal components correspond to which aspect of the mice? What is the intrinsic dimension that they are describing?**"
      ],
      "metadata": {
        "id": "h0GCCaIB80Di"
      }
    },
    {
      "cell_type": "code",
      "source": [
        "# Your answer here"
      ],
      "metadata": {
        "id": "LWr1I4gH81wR"
      },
      "execution_count": null,
      "outputs": []
    },
    {
      "cell_type": "markdown",
      "source": [
        "## 2.2 K-means\n",
        "\n",
        "While the annotations provide high-level information on mice type (e.g. class has 8 categories), we may also be interested in finding more granular subtypes of mice. To achieve this, we will use K-means clustering to find a large number of clusters in the gene expression dataset. Note that the original gene expression matrix had over many noisy features, which is not ideal for clustering. So, we will perform K-means clustering on the first 20 principal components of the dataset.\n",
        "\n",
        "**2.2.1 Implement a kmeans function which takes in a dataset X and a number of clusters k, and returns the cluster assignment for each point in X. You may NOT use sklearn for this implementation. Use lecture 6, slide 14 as a reference.**"
      ],
      "metadata": {
        "id": "Y8__G15kYZ9V"
      }
    },
    {
      "cell_type": "code",
      "execution_count": null,
      "metadata": {
        "id": "T0BCbK2YYW-u"
      },
      "outputs": [],
      "source": [
        "from scipy.spatial import distance\n",
        "def kmeans(X, k, iters=10):\n",
        "    '''Groups the points in X into k clusters using the K-means algorithm.\n",
        "\n",
        "    Parameters\n",
        "    ----------\n",
        "    X : (m x n) data matrix\n",
        "    k: number of clusters\n",
        "    iters: number of iterations to run k-means loop\n",
        "\n",
        "    Returns\n",
        "    -------\n",
        "    y: (m x 1) cluster assignment for each point in X\n",
        "    '''\n",
        "    # Your code here\n",
        "   "
      ]
    },
    {
      "cell_type": "markdown",
      "source": [
        "Before applying K-means on the gene expression data, we will test it on the following synthetic dataset to make sure that the implementation is working."
      ],
      "metadata": {
        "id": "JGi2AxawY897"
      }
    },
    {
      "cell_type": "code",
      "source": [
        "np.random.seed(0)\n",
        "x_1 = np.random.multivariate_normal(mean=[1, 2], cov=np.array([[0.8, 0.6], [0.6, 0.8]]), size=100)\n",
        "x_2 = np.random.multivariate_normal(mean=[-2, -2], cov=np.array([[0.8, -0.4], [-0.4, 0.8]]), size=100)\n",
        "x_3 = np.random.multivariate_normal(mean=[2, -2], cov=np.array([[0.4, 0], [0, 0.4]]), size=100)\n",
        "x_4 = np.random.multivariate_normal(mean=[-2, 1], cov=np.array([[0.6, 0.4], [0.4, 0.6]]), size=100)\n",
        "x_5 = np.random.multivariate_normal(mean=[-1, 2], cov=np.array([[-0.4, 0], [0, -0.4]]), size=100)\n",
        "X = np.vstack([x_1, x_2, x_3,x_4,x_5])\n",
        "\n",
        "plt.figure(figsize=(8, 5))\n",
        "plt.scatter(X[:, 0], X[:, 1], s=10)\n",
        "plt.xlabel('$x_1$', fontsize=15)\n",
        "plt.ylabel('$x_2$', fontsize=15)"
      ],
      "metadata": {
        "id": "n7fDCXeGY49c",
        "colab": {
          "base_uri": "https://localhost:8080/",
          "height": 391
        },
        "outputId": "32d9f32a-e479-4e9f-e217-0c2b1b50d905"
      },
      "execution_count": null,
      "outputs": [
        {
          "output_type": "stream",
          "name": "stderr",
          "text": [
            "/usr/local/lib/python3.7/dist-packages/ipykernel_launcher.py:6: RuntimeWarning: covariance is not positive-semidefinite.\n",
            "  \n"
          ]
        },
        {
          "output_type": "execute_result",
          "data": {
            "text/plain": [
              "Text(0, 0.5, '$x_2$')"
            ]
          },
          "metadata": {},
          "execution_count": 21
        },
        {
          "output_type": "display_data",
          "data": {
            "text/plain": [
              "<Figure size 576x360 with 1 Axes>"
            ],
            "image/png": "[encoded data removed]"
          },
          "metadata": {
            "needs_background": "light"
          }
        }
      ]
    },
    {
      "cell_type": "markdown",
      "source": [
        "**2.2.2 Apply K-means with k=5 to the synthetic dataset above. Plot the points colored by their K-means cluster assignments to verify that your implementation is working.**"
      ],
      "metadata": {
        "id": "0AiJp4AHdDoX"
      }
    },
    {
      "cell_type": "code",
      "source": [
        "# Your code here"
      ],
      "metadata": {
        "id": "DSADIG34c_2N"
      },
      "execution_count": null,
      "outputs": []
    },
    {
      "cell_type": "markdown",
      "source": [
        "**2.2.3 Use K-means with k=20 to cluster the first 20 principal components of the protein data.**"
      ],
      "metadata": {
        "id": "l7oQMd03dwNX"
      }
    },
    {
      "cell_type": "code",
      "source": [
        "# Your code here"
      ],
      "metadata": {
        "id": "T9F7OEd-dsG4"
      },
      "execution_count": null,
      "outputs": []
    },
    {
      "cell_type": "markdown",
      "source": [
        "## 2.3 t-SNE\n",
        "\n",
        "In this final section, we will visualize the data again using t-SNE - a non-linear dimensionality reduction algorithm. You can learn more about t-SNE in this interactive tutorial: https://distill.pub/2016/misread-tsne/.\n",
        "\n",
        "**2.3.1 Use t-SNE to reduce the first 20 principal components of the protein dataset to two dimensions. You may use sklearn.manifold.TSNE. Note that it is recommended to first perform PCA before applying t-SNE to suppress noise and speed up computation.**"
      ],
      "metadata": {
        "id": "1xIB3aPxeDd_"
      }
    },
    {
      "cell_type": "code",
      "source": [
        "# Your code here"
      ],
      "metadata": {
        "id": "0RQHSZz6d9O5"
      },
      "execution_count": null,
      "outputs": []
    },
    {
      "cell_type": "markdown",
      "source": [
        "**2.3.2 Plot the data (first 20 principal components) projected onto the first two t-SNE dimensions.**"
      ],
      "metadata": {
        "id": "nmjb5JjoeRVQ"
      }
    },
    {
      "cell_type": "code",
      "source": [
        "# Your code here"
      ],
      "metadata": {
        "id": "OrrAsOgFeSAX"
      },
      "execution_count": null,
      "outputs": []
    },
    {
      "cell_type": "markdown",
      "source": [
        "**2.3.3 Plot the data (first 20 principal components) projected onto the first two t-SNE dimensions, with points colored by their cluster assignments from part 2.**"
      ],
      "metadata": {
        "id": "Wuh40SYqeZ1w"
      }
    },
    {
      "cell_type": "code",
      "source": [
        "# Your code here"
      ],
      "metadata": {
        "id": "Y33YgJ-ceVcX"
      },
      "execution_count": null,
      "outputs": []
    },
    {
      "cell_type": "markdown",
      "source": [
        "**2.3.4 Why is there overlap between points in different clusters in the t-SNE plot above?**"
      ],
      "metadata": {
        "id": "I-zDB2A2ejr0"
      }
    },
    {
      "cell_type": "code",
      "source": [],
      "metadata": {
        "id": "V8ea-vDKoIq0"
      },
      "execution_count": null,
      "outputs": []
    }
  ]
}