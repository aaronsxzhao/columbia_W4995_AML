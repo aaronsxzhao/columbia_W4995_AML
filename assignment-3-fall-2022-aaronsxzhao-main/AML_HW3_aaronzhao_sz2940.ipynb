{
 "cells": [
  {
   "cell_type": "markdown",
   "metadata": {
    "id": "mkiYBKTBFV-Z"
   },
   "source": [
    "## Homework 3\n",
    "### Part 1: Imbalanced Dataset\n",
    "\n",
    " In this homework, you will be working with an imbalanced Dataset. The dataset is Credit Card Fraud Detection dataset which was hosted on Kaggle. The aim is to detect fraudlent transactions."
   ]
  },
  {
   "cell_type": "markdown",
   "metadata": {
    "id": "QXjHDwbBGaYB"
   },
   "source": [
    "### Instructions\n",
    "\n",
    "Please push the .ipynb, .py, and .pdf to Github Classroom prior to the deadline. Please include your UNI as well."
   ]
  },
  {
   "cell_type": "markdown",
   "metadata": {},
   "source": [
    "## Name: Aaron Zhao"
   ]
  },
  {
   "cell_type": "markdown",
   "metadata": {},
   "source": [
    "## uni: sz2940"
   ]
  },
  {
   "cell_type": "markdown",
   "metadata": {
    "id": "yCpeRNO9GjyP"
   },
   "source": [
    "### Setup"
   ]
  },
  {
   "cell_type": "code",
   "execution_count": 2,
   "metadata": {
    "id": "UB0aoX-eGX0X"
   },
   "outputs": [],
   "source": [
    "import numpy as np\n",
    "import pandas as pd\n",
    "import matplotlib.pyplot as plt\n",
    "import seaborn as sns"
   ]
  },
  {
   "cell_type": "code",
   "execution_count": 3,
   "metadata": {
    "id": "f25EsV59GmeU"
   },
   "outputs": [],
   "source": [
    "# Feel free to import any other packages you'd like to\n",
    "\n",
    "# The libraries I imported\n",
    "from sklearn.model_selection import train_test_split\n",
    "from sklearn.preprocessing import StandardScaler\n",
    "from sklearn.metrics import ConfusionMatrixDisplay\n",
    "from sklearn.metrics import RocCurveDisplay\n",
    "from sklearn.metrics import roc_auc_score\n",
    "from sklearn.metrics import average_precision_score\n",
    "from sklearn.metrics import roc_curve\n",
    "from sklearn.metrics import auc"
   ]
  },
  {
   "cell_type": "markdown",
   "metadata": {
    "id": "s6DdcyXWGtHm"
   },
   "source": [
    "### **Data Preprocessing and Exploration**\n",
    "Download the Kaggle Credit Card Fraud data set. Features V1, V2, … V28 are the principal components obtained with PCA, the only features which have not been transformed with PCA are 'Time' and 'Amount'. Feature 'Time' contains the seconds elapsed between each transaction and the first transaction in the dataset. The feature 'Amount' is the transaction Amount, this feature can be used for example-dependant cost-sensitive learning. Feature 'Class' is the response variable and it takes value 1 in case of fraud and 0 otherwise."
   ]
  },
  {
   "cell_type": "code",
   "execution_count": 4,
   "metadata": {
    "colab": {
     "base_uri": "https://localhost:8080/",
     "height": 300
    },
    "id": "gzbL79SLGwTc",
    "outputId": "a7334725-a6ff-41ab-a78f-fbd79053352b",
    "scrolled": true
   },
   "outputs": [
    {
     "data": {
      "text/html": [
       "<div>\n",
       "<style scoped>\n",
       "    .dataframe tbody tr th:only-of-type {\n",
       "        vertical-align: middle;\n",
       "    }\n",
       "\n",
       "    .dataframe tbody tr th {\n",
       "        vertical-align: top;\n",
       "    }\n",
       "\n",
       "    .dataframe thead th {\n",
       "        text-align: right;\n",
       "    }\n",
       "</style>\n",
       "<table border=\"1\" class=\"dataframe\">\n",
       "  <thead>\n",
       "    <tr style=\"text-align: right;\">\n",
       "      <th></th>\n",
       "      <th>Time</th>\n",
       "      <th>V1</th>\n",
       "      <th>V2</th>\n",
       "      <th>V3</th>\n",
       "      <th>V4</th>\n",
       "      <th>V5</th>\n",
       "      <th>V6</th>\n",
       "      <th>V7</th>\n",
       "      <th>V8</th>\n",
       "      <th>V9</th>\n",
       "      <th>...</th>\n",
       "      <th>V21</th>\n",
       "      <th>V22</th>\n",
       "      <th>V23</th>\n",
       "      <th>V24</th>\n",
       "      <th>V25</th>\n",
       "      <th>V26</th>\n",
       "      <th>V27</th>\n",
       "      <th>V28</th>\n",
       "      <th>Amount</th>\n",
       "      <th>Class</th>\n",
       "    </tr>\n",
       "  </thead>\n",
       "  <tbody>\n",
       "    <tr>\n",
       "      <th>0</th>\n",
       "      <td>0.0</td>\n",
       "      <td>-1.359807</td>\n",
       "      <td>-0.072781</td>\n",
       "      <td>2.536347</td>\n",
       "      <td>1.378155</td>\n",
       "      <td>-0.338321</td>\n",
       "      <td>0.462388</td>\n",
       "      <td>0.239599</td>\n",
       "      <td>0.098698</td>\n",
       "      <td>0.363787</td>\n",
       "      <td>...</td>\n",
       "      <td>-0.018307</td>\n",
       "      <td>0.277838</td>\n",
       "      <td>-0.110474</td>\n",
       "      <td>0.066928</td>\n",
       "      <td>0.128539</td>\n",
       "      <td>-0.189115</td>\n",
       "      <td>0.133558</td>\n",
       "      <td>-0.021053</td>\n",
       "      <td>149.62</td>\n",
       "      <td>0</td>\n",
       "    </tr>\n",
       "    <tr>\n",
       "      <th>1</th>\n",
       "      <td>0.0</td>\n",
       "      <td>1.191857</td>\n",
       "      <td>0.266151</td>\n",
       "      <td>0.166480</td>\n",
       "      <td>0.448154</td>\n",
       "      <td>0.060018</td>\n",
       "      <td>-0.082361</td>\n",
       "      <td>-0.078803</td>\n",
       "      <td>0.085102</td>\n",
       "      <td>-0.255425</td>\n",
       "      <td>...</td>\n",
       "      <td>-0.225775</td>\n",
       "      <td>-0.638672</td>\n",
       "      <td>0.101288</td>\n",
       "      <td>-0.339846</td>\n",
       "      <td>0.167170</td>\n",
       "      <td>0.125895</td>\n",
       "      <td>-0.008983</td>\n",
       "      <td>0.014724</td>\n",
       "      <td>2.69</td>\n",
       "      <td>0</td>\n",
       "    </tr>\n",
       "    <tr>\n",
       "      <th>2</th>\n",
       "      <td>1.0</td>\n",
       "      <td>-1.358354</td>\n",
       "      <td>-1.340163</td>\n",
       "      <td>1.773209</td>\n",
       "      <td>0.379780</td>\n",
       "      <td>-0.503198</td>\n",
       "      <td>1.800499</td>\n",
       "      <td>0.791461</td>\n",
       "      <td>0.247676</td>\n",
       "      <td>-1.514654</td>\n",
       "      <td>...</td>\n",
       "      <td>0.247998</td>\n",
       "      <td>0.771679</td>\n",
       "      <td>0.909412</td>\n",
       "      <td>-0.689281</td>\n",
       "      <td>-0.327642</td>\n",
       "      <td>-0.139097</td>\n",
       "      <td>-0.055353</td>\n",
       "      <td>-0.059752</td>\n",
       "      <td>378.66</td>\n",
       "      <td>0</td>\n",
       "    </tr>\n",
       "    <tr>\n",
       "      <th>3</th>\n",
       "      <td>1.0</td>\n",
       "      <td>-0.966272</td>\n",
       "      <td>-0.185226</td>\n",
       "      <td>1.792993</td>\n",
       "      <td>-0.863291</td>\n",
       "      <td>-0.010309</td>\n",
       "      <td>1.247203</td>\n",
       "      <td>0.237609</td>\n",
       "      <td>0.377436</td>\n",
       "      <td>-1.387024</td>\n",
       "      <td>...</td>\n",
       "      <td>-0.108300</td>\n",
       "      <td>0.005274</td>\n",
       "      <td>-0.190321</td>\n",
       "      <td>-1.175575</td>\n",
       "      <td>0.647376</td>\n",
       "      <td>-0.221929</td>\n",
       "      <td>0.062723</td>\n",
       "      <td>0.061458</td>\n",
       "      <td>123.50</td>\n",
       "      <td>0</td>\n",
       "    </tr>\n",
       "    <tr>\n",
       "      <th>4</th>\n",
       "      <td>2.0</td>\n",
       "      <td>-1.158233</td>\n",
       "      <td>0.877737</td>\n",
       "      <td>1.548718</td>\n",
       "      <td>0.403034</td>\n",
       "      <td>-0.407193</td>\n",
       "      <td>0.095921</td>\n",
       "      <td>0.592941</td>\n",
       "      <td>-0.270533</td>\n",
       "      <td>0.817739</td>\n",
       "      <td>...</td>\n",
       "      <td>-0.009431</td>\n",
       "      <td>0.798278</td>\n",
       "      <td>-0.137458</td>\n",
       "      <td>0.141267</td>\n",
       "      <td>-0.206010</td>\n",
       "      <td>0.502292</td>\n",
       "      <td>0.219422</td>\n",
       "      <td>0.215153</td>\n",
       "      <td>69.99</td>\n",
       "      <td>0</td>\n",
       "    </tr>\n",
       "  </tbody>\n",
       "</table>\n",
       "<p>5 rows × 31 columns</p>\n",
       "</div>"
      ],
      "text/plain": [
       "   Time        V1        V2        V3        V4        V5        V6        V7  \\\n",
       "0   0.0 -1.359807 -0.072781  2.536347  1.378155 -0.338321  0.462388  0.239599   \n",
       "1   0.0  1.191857  0.266151  0.166480  0.448154  0.060018 -0.082361 -0.078803   \n",
       "2   1.0 -1.358354 -1.340163  1.773209  0.379780 -0.503198  1.800499  0.791461   \n",
       "3   1.0 -0.966272 -0.185226  1.792993 -0.863291 -0.010309  1.247203  0.237609   \n",
       "4   2.0 -1.158233  0.877737  1.548718  0.403034 -0.407193  0.095921  0.592941   \n",
       "\n",
       "         V8        V9  ...       V21       V22       V23       V24       V25  \\\n",
       "0  0.098698  0.363787  ... -0.018307  0.277838 -0.110474  0.066928  0.128539   \n",
       "1  0.085102 -0.255425  ... -0.225775 -0.638672  0.101288 -0.339846  0.167170   \n",
       "2  0.247676 -1.514654  ...  0.247998  0.771679  0.909412 -0.689281 -0.327642   \n",
       "3  0.377436 -1.387024  ... -0.108300  0.005274 -0.190321 -1.175575  0.647376   \n",
       "4 -0.270533  0.817739  ... -0.009431  0.798278 -0.137458  0.141267 -0.206010   \n",
       "\n",
       "        V26       V27       V28  Amount  Class  \n",
       "0 -0.189115  0.133558 -0.021053  149.62      0  \n",
       "1  0.125895 -0.008983  0.014724    2.69      0  \n",
       "2 -0.139097 -0.055353 -0.059752  378.66      0  \n",
       "3 -0.221929  0.062723  0.061458  123.50      0  \n",
       "4  0.502292  0.219422  0.215153   69.99      0  \n",
       "\n",
       "[5 rows x 31 columns]"
      ]
     },
     "execution_count": 4,
     "metadata": {},
     "output_type": "execute_result"
    }
   ],
   "source": [
    "raw_df = pd.read_csv('https://storage.googleapis.com/download.tensorflow.org/data/creditcard.csv')\n",
    "raw_df.head()"
   ]
  },
  {
   "cell_type": "markdown",
   "metadata": {
    "id": "f7iaHyCqG6lk"
   },
   "source": [
    "#### **1.1 Examining the class Imbalance**\n",
    "**1.1.1 How many observations are in this dataset? How many are positive and negative?**\n",
    "(Note: Positive labels are labeled as 1)"
   ]
  },
  {
   "cell_type": "code",
   "execution_count": 21,
   "metadata": {
    "id": "BXv6y3-SG1JJ"
   },
   "outputs": [
    {
     "name": "stdout",
     "output_type": "stream",
     "text": [
      "Number of Observations: 284807\n",
      "Number of Positive Labels: 492\n",
      "Number of Negative Labels: 284315\n"
     ]
    }
   ],
   "source": [
    "print('Number of Observations: {}'.format(raw_df.shape[0]))\n",
    "print('Number of Positive Labels: {}'.format(raw_df[raw_df['Class'] == 1].shape[0]))\n",
    "print('Number of Negative Labels: {}'.format(raw_df[raw_df['Class'] == 0].shape[0]))"
   ]
  },
  {
   "cell_type": "markdown",
   "metadata": {
    "id": "La6L9rkGHZD7"
   },
   "source": [
    "#### **1.2 Cleaning and normalizing the data**\n",
    "The raw data has a few issues. We are not sure what the time column actually means so drop the Time column. The Amount column also has a wide range of values covered so we take the log of the Amount column to reduce its range."
   ]
  },
  {
   "cell_type": "code",
   "execution_count": 6,
   "metadata": {
    "id": "weojo62PHXHj"
   },
   "outputs": [],
   "source": [
    "cleaned_df = raw_df.copy()\n",
    "\n",
    "# You don't want the `Time` column.\n",
    "cleaned_df.pop('Time')\n",
    "\n",
    "# The `Amount` column covers a huge range. Convert to log-space.\n",
    "eps = 0.001 # 0 => 0.1¢\n",
    "cleaned_df['Log Ammount'] = np.log(cleaned_df.pop('Amount')+eps)"
   ]
  },
  {
   "cell_type": "markdown",
   "metadata": {
    "id": "xOftMoAtI_QU"
   },
   "source": [
    "**1.2.1 Split the dataset into development and test sets. Please set test size as 0.2 and random state as 42. Print the shape of your development and test features**"
   ]
  },
  {
   "cell_type": "code",
   "execution_count": 7,
   "metadata": {
    "id": "Wn9dT8cXIvNi"
   },
   "outputs": [
    {
     "name": "stdout",
     "output_type": "stream",
     "text": [
      "Shape of development data: (227845, 29)\n",
      "Shape of test data: (56962, 29)\n"
     ]
    }
   ],
   "source": [
    "df_y = cleaned_df[[\"Class\"]]\n",
    "cleaned_df.pop(\"Class\")\n",
    "df_X = cleaned_df\n",
    "\n",
    "df_X_dev, df_X_test, df_y_dev, df_y_test = \\\n",
    "train_test_split(df_X , df_y, test_size = 0.2, random_state = 42, stratify = df_y)\n",
    "\n",
    "print(f\"Shape of development data: {df_X_dev.shape}\")\n",
    "print(f\"Shape of test data: {df_X_test.shape}\")"
   ]
  },
  {
   "cell_type": "markdown",
   "metadata": {
    "id": "xkdb9wmeJKx8"
   },
   "source": [
    "**1.2.2 Normalize the features using Standard Scaler from Sklearn.**"
   ]
  },
  {
   "cell_type": "code",
   "execution_count": 8,
   "metadata": {
    "id": "6NQKlUcwJH1O"
   },
   "outputs": [
    {
     "name": "stdout",
     "output_type": "stream",
     "text": [
      "Shape of development features (227845, 29)\n",
      "Shape of test features (56962, 29)\n"
     ]
    }
   ],
   "source": [
    "scaler = StandardScaler()\n",
    "df_X_dev = scaler.fit_transform(df_X_dev)\n",
    "df_X_test = scaler.transform(df_X_test)\n",
    "print('Shape of development features {:}'.format(df_X_dev.shape))\n",
    "print('Shape of test features {:}'.format(df_X_test.shape))"
   ]
  },
  {
   "cell_type": "markdown",
   "metadata": {
    "id": "xe_W1FPtJ3PQ"
   },
   "source": [
    "#### **1.3 Defining Model and Performance Metrics**"
   ]
  },
  {
   "cell_type": "markdown",
   "metadata": {
    "id": "8kSY6RNPKKhu"
   },
   "source": [
    "**1.3.1 First, let us fit a default Decision tree classifier. ( use max_depth=10 and random_state=42). Print the AUC and Average Precision values of 5 Fold Cross Validation**"
   ]
  },
  {
   "cell_type": "code",
   "execution_count": 22,
   "metadata": {
    "id": "WUb3DJOHK2UA"
   },
   "outputs": [
    {
     "name": "stdout",
     "output_type": "stream",
     "text": [
      "AUC score: [0.88756328 0.88400873 0.81260522 0.77454358 0.82104149]\n",
      "Average precision: [0.62653551 0.71014615 0.60399496 0.58692296 0.68112078]\n"
     ]
    }
   ],
   "source": [
    "from sklearn.model_selection import cross_validate\n",
    "from sklearn.tree import DecisionTreeClassifier\n",
    "\n",
    "scores = cross_validate(DecisionTreeClassifier(max_depth = 10, random_state = 42), \\\n",
    "                        df_X_dev, df_y_dev, cv = 5, scoring = ['roc_auc', 'average_precision'])\n",
    "    \n",
    "print('AUC score: {}'.format(scores['test_roc_auc']))\n",
    "print('Average precision: {}'.format(scores['test_average_precision']))"
   ]
  },
  {
   "cell_type": "markdown",
   "metadata": {
    "id": "WOKFElp7K7Dw"
   },
   "source": [
    "**1.3.2 Perform random oversampling on the development dataset.**\n",
    "\n",
    "\n",
    "*   What many positive and negative labels do you observe after random oversampling?\n",
    "*   What is the shape of your development dataset?\n",
    "\n",
    "(Note: Set random state as 42 when performing oversampling)\n"
   ]
  },
  {
   "cell_type": "code",
   "execution_count": 10,
   "metadata": {
    "id": "t-2VVTY8K5c4"
   },
   "outputs": [
    {
     "name": "stdout",
     "output_type": "stream",
     "text": [
      "The shape of my development dataset is (454902, 29)\n",
      "I observed 227451 positive labels and 227451 negative labels\n"
     ]
    }
   ],
   "source": [
    "from imblearn.pipeline import make_pipeline as imb_make_pipeline\n",
    "from imblearn.under_sampling import RandomUnderSampler\n",
    "from imblearn.over_sampling import RandomOverSampler\n",
    "from imblearn.over_sampling import SMOTE\n",
    "\n",
    "ros = RandomOverSampler(random_state = 42)\n",
    "X_dev_oversample, y_dev_oversample = ros.fit_resample(df_X_dev, df_y_dev)\n",
    "\n",
    "print(f\"The shape of my development dataset is {X_dev_oversample.shape}\")\n",
    "print(f\"I observed {y_dev_oversample['Class'].value_counts()[1]} \\\n",
    "positive labels and {y_dev_oversample['Class'].value_counts()[0]} negative labels\")"
   ]
  },
  {
   "cell_type": "markdown",
   "metadata": {
    "id": "45ayLBshLuKl"
   },
   "source": [
    "**1.3.3 Repeat 1.3.1 using the dataset you created in the above step(1.3.2 Random oversampling). (Make sure you use the same hyperparameters as 1.3.1. i.e., max_depth=10 and random_state=42. This will help us to compare the models)**"
   ]
  },
  {
   "cell_type": "code",
   "execution_count": 23,
   "metadata": {
    "id": "7DDb_cTFLsKM"
   },
   "outputs": [
    {
     "name": "stdout",
     "output_type": "stream",
     "text": [
      "AUC score: [0.99886808 0.99929956 0.99900977 0.99926441 0.99932258]\n",
      "Average precision: [0.99816396 0.99884446 0.99826911 0.9986672  0.99874564]\n"
     ]
    }
   ],
   "source": [
    "# ros = RandomOverSampler(random_state = 42)\n",
    "sample_pipe_ros = imb_make_pipeline(ros, DecisionTreeClassifier(max_depth = 10, random_state = 42))\n",
    "scores = cross_validate(sample_pipe_ros, X_dev_oversample, y_dev_oversample, cv = 5,\\\n",
    "                        scoring = ['roc_auc', 'average_precision'])\n",
    "\n",
    "print('AUC score: {}'.format(scores['test_roc_auc']))\n",
    "print('Average precision: {}'.format(scores['test_average_precision']))\n"
   ]
  },
  {
   "cell_type": "markdown",
   "metadata": {
    "id": "Z7un4RnfMX56"
   },
   "source": [
    "**1.3.4 Perform Random undersampling on the development dataset**. \n",
    "- What many positive and negative labels do you observe after random undersampling?\n",
    "- What is the shape of your development dataset?\n",
    "(Note: Set random state as 42 when performing undersampling)"
   ]
  },
  {
   "cell_type": "code",
   "execution_count": 12,
   "metadata": {
    "id": "9LSxKMiZMSTZ"
   },
   "outputs": [
    {
     "name": "stdout",
     "output_type": "stream",
     "text": [
      "The shape of my development dataset is (788, 29)\n",
      "I observed 394 positive labels and 394 negative labels\n"
     ]
    }
   ],
   "source": [
    "rus = RandomUnderSampler(random_state = 42)\n",
    "X_dev_undersample, y_dev_undersample = rus.fit_resample(df_X_dev, df_y_dev)\n",
    "\n",
    "print(f\"The shape of my development dataset is {X_dev_undersample.shape}\")\n",
    "print(f\"I observed {y_dev_undersample['Class'].value_counts()[1]} \\\n",
    "positive labels and {y_dev_undersample['Class'].value_counts()[0]} negative labels\")"
   ]
  },
  {
   "cell_type": "markdown",
   "metadata": {
    "id": "EYBOYBcqMr-9"
   },
   "source": [
    "**1.3.5 Repeat 1.3.1 using the dataset you created in the above step(1.3.4 Random undersampling). (Make sure you use the same hyperparameters as 1.3.1. i,e., max_depth=10 and random_state=42. This will help us to compare the models)**"
   ]
  },
  {
   "cell_type": "code",
   "execution_count": 24,
   "metadata": {
    "id": "hMGzlKuQMrXA"
   },
   "outputs": [
    {
     "name": "stdout",
     "output_type": "stream",
     "text": [
      "AUC score: [0.93662875 0.94936709 0.9097901  0.92583577 0.92989289]\n",
      "Average precision: [0.91336577 0.92661432 0.86678359 0.90629539 0.89830283]\n"
     ]
    }
   ],
   "source": [
    "# rus = RandomUnderSampler(random_state = 42)\n",
    "sample_pipe_rus = imb_make_pipeline(rus, DecisionTreeClassifier(max_depth = 10, random_state = 42))\n",
    "scores = cross_validate(sample_pipe_rus, X_dev_undersample, y_dev_undersample, cv = 5,\\\n",
    "                        scoring = ['roc_auc', 'average_precision'])\n",
    "\n",
    "print('AUC score: {}'.format(scores['test_roc_auc']))\n",
    "print('Average precision: {}'.format(scores['test_average_precision']))"
   ]
  },
  {
   "cell_type": "markdown",
   "metadata": {
    "id": "D03K-7rlNOrI"
   },
   "source": [
    "**1.3.6 Perform Synthetic Minority Oversampling Technique(SMOTE) on the development dataset**\n",
    "- What many positive and negative labels do you observe after performing SMOTE?\n",
    "- What is the shape of your development dataset? (Note: Set random state as 42 when performing SMOTE)"
   ]
  },
  {
   "cell_type": "code",
   "execution_count": 14,
   "metadata": {
    "id": "bFzUvcRiMznd"
   },
   "outputs": [
    {
     "name": "stdout",
     "output_type": "stream",
     "text": [
      "The shape of my development dataset is (454902, 29)\n",
      "I observed 227451 positive labels and 227451 negative labels\n"
     ]
    }
   ],
   "source": [
    "smote = SMOTE(random_state = 42)\n",
    "X_dev_smote, y_dev_smote = smote.fit_resample(df_X_dev, df_y_dev)\n",
    "\n",
    "print(f\"The shape of my development dataset is {X_dev_smote.shape}\")\n",
    "print(f\"I observed {y_dev_smote['Class'].value_counts()[1]} \\\n",
    "positive labels and {y_dev_smote['Class'].value_counts()[0]} negative labels\")"
   ]
  },
  {
   "cell_type": "markdown",
   "metadata": {
    "id": "ZkVRBIM-Nn9z"
   },
   "source": [
    "**1.3.7 Repeat 1.3.1 using the dataset you created in the above step(1.3.6 SMOTE). (Make sure you use the same hyperparameters as 1.3.1. i.e., max_depth=10 and random_state=42. This will help us to compare the models)**"
   ]
  },
  {
   "cell_type": "code",
   "execution_count": 25,
   "metadata": {
    "id": "-JDjMP2kNnRJ"
   },
   "outputs": [
    {
     "name": "stdout",
     "output_type": "stream",
     "text": [
      "AUC score: [0.99757923 0.99738426 0.99772842 0.9972463  0.99714931]\n",
      "Average precision: [0.99667622 0.99645425 0.99685462 0.99619248 0.99611009]\n"
     ]
    }
   ],
   "source": [
    "smote = SMOTE(random_state = 42)\n",
    "sample_pipe_smote = imb_make_pipeline(smote, DecisionTreeClassifier(max_depth = 10, random_state = 42))\n",
    "scores = cross_validate(sample_pipe_smote, X_dev_smote, y_dev_smote, cv = 5,\\\n",
    "                        scoring = ['roc_auc', 'average_precision'])\n",
    "\n",
    "print('AUC score: {}'.format(scores['test_roc_auc']))\n",
    "print('Average precision: {}'.format(scores['test_average_precision']))"
   ]
  },
  {
   "cell_type": "markdown",
   "metadata": {
    "id": "3b5GAOgCN-pm"
   },
   "source": [
    "**1.3.8 Make predictions on the test set using the four models that you built and report their AUC values.**"
   ]
  },
  {
   "cell_type": "code",
   "execution_count": 16,
   "metadata": {
    "id": "IWIxud5bN9QT"
   },
   "outputs": [
    {
     "name": "stdout",
     "output_type": "stream",
     "text": [
      "Decision Tree AUC score: 0.8196316775866227\n",
      "RandomOverSampler AOC score: 0.9016732009348478\n",
      "RandomUnderSampler AUC score: 0.8959979162599198\n",
      "SMOTE AUC score: 0.8752678248423735\n"
     ]
    }
   ],
   "source": [
    "# Decision Tree\n",
    "\n",
    "dtr = DecisionTreeClassifier(max_depth = 10, random_state = 42)\n",
    "dtr_pred = dtr.fit(df_X_dev, df_y_dev).predict_proba(df_X_test)[:,1]\n",
    "dtr_score = roc_auc_score(df_y_test, dtr_pred)\n",
    "print('Decision Tree AUC score: {}'.format(dtr_score))\n",
    "\n",
    "# OverSampling\n",
    "\n",
    "X_dev_oversample, y_dev_oversample = \\\n",
    "RandomOverSampler(random_state = 42).fit_resample(df_X_dev, df_y_dev)\n",
    "\n",
    "ros_pred = dtr.fit(X_dev_oversample, y_dev_oversample).predict_proba(df_X_test)[:,1]\n",
    "ros_score = roc_auc_score(df_y_test, ros_pred)\n",
    "print('RandomOverSampler AOC score: {}'.format(ros_score))\n",
    "\n",
    "# UnderSampling\n",
    "\n",
    "X_dev_undersample, y_dev_undersample = \\\n",
    "RandomUnderSampler(random_state = 42).fit_resample(df_X_dev, df_y_dev)\n",
    "\n",
    "rus_pred = dtr.fit(X_dev_undersample, y_dev_undersample).predict_proba(df_X_test)[:,1]\n",
    "rus_score = roc_auc_score(df_y_test, rus_pred)\n",
    "print('RandomUnderSampler AUC score: {}'.format(rus_score))\n",
    "\n",
    "# SMOTE\n",
    "\n",
    "X_dev_smote, y_dev_smote = SMOTE(random_state = 42).fit_resample(df_X_dev, df_y_dev)\n",
    "smote_pred = dtr.fit(X_dev_smote, y_dev_smote).predict_proba(df_X_test)[:,1]\n",
    "smote_score = roc_auc_score(df_y_test, smote_pred)\n",
    "print('SMOTE AUC score: {}'.format(smote_score))"
   ]
  },
  {
   "cell_type": "markdown",
   "metadata": {
    "id": "8jSslBq5OhNs"
   },
   "source": [
    "**1.3.9 Plot Confusion Matrices for all the four models on the test set. Comment your results**"
   ]
  },
  {
   "cell_type": "code",
   "execution_count": 17,
   "metadata": {
    "id": "ZzWN-hZIOeRk"
   },
   "outputs": [
    {
     "data": {
      "text/plain": [
       "Text(0.5, 1.0, 'Confustion matrix of smote Decision Tree Classifier model')"
      ]
     },
     "execution_count": 17,
     "metadata": {},
     "output_type": "execute_result"
    },
    {
     "data": {
      "image/png": "[encoded data removed]",
      "text/plain": [
       "<Figure size 864x720 with 8 Axes>"
      ]
     },
     "metadata": {
      "needs_background": "light"
     },
     "output_type": "display_data"
    }
   ],
   "source": [
    "from sklearn.metrics import plot_confusion_matrix\n",
    "from sklearn.tree import DecisionTreeClassifier\n",
    "fig, ax = plt.subplots(nrows = 2, ncols = 2, figsize = (12,10))\n",
    "ax = ax.flatten()\n",
    "\n",
    "dt = DecisionTreeClassifier(max_depth = 10, random_state = 42)\n",
    "dt.fit(df_X_dev, df_y_dev)\n",
    "ConfusionMatrixDisplay.from_estimator(dt, df_X_test, df_y_test, ax = ax[0])\n",
    "ax[0].set_title('Confustion matrix of simple Decision Tree Classifier model')\n",
    "\n",
    "ros = RandomOverSampler(random_state = 42)\n",
    "sample_pipe_ros = imb_make_pipeline(ros, DecisionTreeClassifier(random_state = 42))\n",
    "sample_pipe_ros.fit(df_X_dev, df_y_dev)\n",
    "ConfusionMatrixDisplay.from_estimator(sample_pipe_ros, df_X_test, df_y_test, ax = ax[1])\n",
    "ax[2].set_title('Confustion matrix of oversample Decision Tree Classifier model')\n",
    "\n",
    "rus = RandomUnderSampler(random_state = 42)\n",
    "sample_pipe_rus = imb_make_pipeline(rus, DecisionTreeClassifier(random_state = 42))\n",
    "sample_pipe_rus.fit(df_X_dev, df_y_dev)\n",
    "ConfusionMatrixDisplay.from_estimator(sample_pipe_rus, df_X_test, df_y_test, ax = ax[2])\n",
    "ax[1].set_title('Confustion matrix of undersample Decision Tree Classifier model')\n",
    "\n",
    "smote = SMOTE(random_state = 42)\n",
    "sample_pipe_smote = imb_make_pipeline(smote, DecisionTreeClassifier(random_state = 42))\n",
    "sample_pipe_smote.fit(df_X_dev, df_y_dev)\n",
    "ConfusionMatrixDisplay.from_estimator(sample_pipe_smote, df_X_test, df_y_test, ax = ax[3])\n",
    "ax[3].set_title('Confustion matrix of smote Decision Tree Classifier model')"
   ]
  },
  {
   "cell_type": "markdown",
   "metadata": {
    "id": "OqgVbbL0OwOh"
   },
   "source": [
    "**1.3.10 Plot ROC for all the four models on the test set in a single plot. Make sure you label axes and legend properly. Comment your results**"
   ]
  },
  {
   "cell_type": "code",
   "execution_count": 18,
   "metadata": {
    "id": "oslykiR-OsEj"
   },
   "outputs": [
    {
     "data": {
      "image/png": "[encoded data removed]",
      "text/plain": [
       "<Figure size 576x432 with 1 Axes>"
      ]
     },
     "metadata": {
      "needs_background": "light"
     },
     "output_type": "display_data"
    }
   ],
   "source": [
    "from sklearn.metrics import plot_roc_curve\n",
    "\n",
    "fig, ax = plt.subplots(figsize = (8,6))\n",
    "RocCurveDisplay.from_estimator(dtr, df_X_test, df_y_test, name = 'Decision Tree Classifier', ax = ax)\n",
    "RocCurveDisplay.from_estimator(sample_pipe_rus, df_X_test, df_y_test,\\\n",
    "                               name = 'Undersample Decision Tree Classifier', ax = ax)\n",
    "RocCurveDisplay.from_estimator(sample_pipe_ros, df_X_test, df_y_test,\\\n",
    "                               name = 'Oversample Decision Tree Classifier',ax = ax)\n",
    "RocCurveDisplay.from_estimator(sample_pipe_smote, df_X_test, df_y_test,\\\n",
    "                               name = 'Smote sample Decision Tree Classifier',ax = ax)\n",
    "ax.set_title('ROC for all four models')\n",
    "plt.show()"
   ]
  },
  {
   "cell_type": "markdown",
   "metadata": {},
   "source": [
    "My decision Tree plot can be seen is a relatively 'curve' but all the other three are pretty much straight lines with only one turning point, which means my decision tree is seeking while predicting but the other three are sort of hitting some points first then to the final AUC. They are all more efficient than the original Decision Tree classifier, which is good and desired."
   ]
  },
  {
   "cell_type": "markdown",
   "metadata": {
    "id": "7yzjUR8kPEgh"
   },
   "source": [
    "**1.3.11 Train a balanced default Decision tree classifier. (use max_depth=10 and random_state=42). ( balance the class weights). Print the AUC and average precision on test set**"
   ]
  },
  {
   "cell_type": "code",
   "execution_count": 19,
   "metadata": {
    "id": "vJdAv81NO7Zr"
   },
   "outputs": [
    {
     "name": "stdout",
     "output_type": "stream",
     "text": [
      "Balanced Decision Tree AUC score: 0.9017402244381152\n",
      "Balanced Decision Tree Average Precision score: 0.4631083350370235\n"
     ]
    }
   ],
   "source": [
    "dt_balanced = DecisionTreeClassifier(max_depth = 10, random_state = 42, class_weight='balanced')\n",
    "dt_balanced_pred = dt_balanced.fit(df_X_dev, df_y_dev).predict_proba(df_X_test)[:,1]\n",
    "dt_score_auc = roc_auc_score(df_y_test,dt_balanced_pred)\n",
    "dt_score_aps = average_precision_score(df_y_test,dt_balanced_pred)\n",
    "\n",
    "print('Balanced Decision Tree AUC score: {}'.format(dt_score_auc))\n",
    "print('Balanced Decision Tree Average Precision score: {}'.format(dt_score_aps))"
   ]
  },
  {
   "cell_type": "markdown",
   "metadata": {
    "id": "d3rKdyQOP1Eg"
   },
   "source": [
    "<!-- **1.3.12 Train a balanced Decision tree classifier. (You can use max_depth=10 and random_state=42)( balance the class weights). Print the AUC and average precision on test set** (Use Random state = 42) -->"
   ]
  },
  {
   "cell_type": "markdown",
   "metadata": {
    "id": "C0HfvhYWQMNf"
   },
   "source": [
    "**1.3.12 Plot confusion matrix on test set using the above model and comment on your results**"
   ]
  },
  {
   "cell_type": "code",
   "execution_count": 20,
   "metadata": {
    "id": "PIK5MUdeQLfZ"
   },
   "outputs": [
    {
     "data": {
      "image/png": "[encoded data removed]",
      "text/plain": [
       "<Figure size 432x288 with 2 Axes>"
      ]
     },
     "metadata": {
      "needs_background": "light"
     },
     "output_type": "display_data"
    }
   ],
   "source": [
    "# plt.figure(figsize=(8, 8))\n",
    "ConfusionMatrixDisplay.from_estimator(dt_balanced.fit(df_X_dev, df_y_dev), df_X_test, df_y_test)\n",
    "plt.title('Confustion matrix of simple Decision Tree Classifier model')\n",
    "plt.show()"
   ]
  },
  {
   "cell_type": "markdown",
   "metadata": {},
   "source": [
    "Use balanced decision tree will return more fulse negative values which means this method is not desired. My decision tree becomes biased"
   ]
  }
 ],
 "metadata": {
  "colab": {
   "collapsed_sections": [],
   "provenance": []
  },
  "kernelspec": {
   "display_name": "Python 3 (ipykernel)",
   "language": "python",
   "name": "python3"
  },
  "language_info": {
   "codemirror_mode": {
    "name": "ipython",
    "version": 3
   },
   "file_extension": ".py",
   "mimetype": "text/x-python",
   "name": "python",
   "nbconvert_exporter": "python",
   "pygments_lexer": "ipython3",
   "version": "3.9.7"
  }
 },
 "nbformat": 4,
 "nbformat_minor": 1
}
