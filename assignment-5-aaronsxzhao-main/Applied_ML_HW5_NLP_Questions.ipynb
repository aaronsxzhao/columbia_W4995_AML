{
  "cells": [
    {
      "cell_type": "markdown",
      "id": "d9bcdbd2-3401-41ad-a83f-830e9346e607",
      "metadata": {
        "id": "d9bcdbd2-3401-41ad-a83f-830e9346e607"
      },
      "source": [
        "# **Applied Machine Learning Homework 5**\n",
        "**Due 12 Dec,2022 (Monday) 11:59PM EST**"
      ]
    },
    {
      "cell_type": "markdown",
      "id": "70df26be-5638-4b0d-a252-4437eb76aa46",
      "metadata": {
        "id": "70df26be-5638-4b0d-a252-4437eb76aa46"
      },
      "source": [
        "### Natural Language Processing\n",
        "We will train a supervised model to predict if a movie has a positive or a negative review."
      ]
    },
    {
      "cell_type": "markdown",
      "id": "2e0d9a19-25ea-4490-b0e8-7909bcdc3d9d",
      "metadata": {
        "id": "2e0d9a19-25ea-4490-b0e8-7909bcdc3d9d"
      },
      "source": [
        "####  **Dataset loading & dev/test splits**"
      ]
    },
    {
      "cell_type": "markdown",
      "id": "fafa37c4-c8fc-4697-9bbe-11539d710bf7",
      "metadata": {
        "id": "fafa37c4-c8fc-4697-9bbe-11539d710bf7"
      },
      "source": [
        "**1.0) Load the movie reviews dataset from NLTK library**"
      ]
    },
    {
      "cell_type": "code",
      "execution_count": 8,
      "id": "5f4ce405-237b-42d2-9c81-25ff28deaf4a",
      "metadata": {
        "id": "5f4ce405-237b-42d2-9c81-25ff28deaf4a",
        "outputId": "46c1d8f9-5493-4df8-e40f-b62cf7bfbbfc",
        "colab": {
          "base_uri": "https://localhost:8080/"
        }
      },
      "outputs": [
        {
          "output_type": "stream",
          "name": "stderr",
          "text": [
            "[nltk_data] Downloading package movie_reviews to /root/nltk_data...\n",
            "[nltk_data]   Unzipping corpora/movie_reviews.zip.\n",
            "[nltk_data] Downloading package stopwords to /root/nltk_data...\n",
            "[nltk_data]   Unzipping corpora/stopwords.zip.\n",
            "[nltk_data] Downloading package punkt to /root/nltk_data...\n",
            "[nltk_data]   Unzipping tokenizers/punkt.zip.\n"
          ]
        }
      ],
      "source": [
        "import nltk\n",
        "nltk.download(\"movie_reviews\")\n",
        "import pandas as pd\n",
        "from nltk.corpus import twitter_samples \n",
        "from sklearn.model_selection import train_test_split\n",
        "from nltk.corpus import stopwords\n",
        "nltk.download('stopwords')\n",
        "nltk.download('punkt')\n",
        "stop = stopwords.words('english')\n",
        "import string\n",
        "import re\n",
        "from nltk.stem import PorterStemmer\n",
        "from nltk.tokenize import word_tokenize\n",
        "from sklearn.feature_extraction.text import CountVectorizer\n",
        "from sklearn.linear_model import LogisticRegression\n",
        "from sklearn.feature_extraction.text import TfidfVectorizer"
      ]
    },
    {
      "cell_type": "code",
      "source": [
        "negative_fileids = movie_reviews.fileids('neg')\n",
        "positive_fileids = movie_reviews.fileids('pos')\n",
        "\n",
        "pos_document = [(' '.join(movie_reviews.words(file_id)),category) for file_id in movie_reviews.fileids() for category in movie_reviews.categories(file_id) if category == 'pos']\n",
        "neg_document = [(' '.join(movie_reviews.words(file_id)),category) for file_id in movie_reviews.fileids() for category in movie_reviews.categories(file_id) if category == 'neg']\n",
        "\n",
        "# List of postive and negative reviews\n",
        "pos_list = [pos[0] for pos in pos_document]\n",
        "neg_list = [neg[0] for neg in neg_document]"
      ],
      "metadata": {
        "id": "Nmt1nVaNpkKy"
      },
      "id": "Nmt1nVaNpkKy",
      "execution_count": null,
      "outputs": []
    },
    {
      "cell_type": "markdown",
      "source": [
        "**1.1) Make a data frame that has reviews and its label**"
      ],
      "metadata": {
        "id": "-B4xT6L714l2"
      },
      "id": "-B4xT6L714l2"
    },
    {
      "cell_type": "code",
      "source": [
        "# code here"
      ],
      "metadata": {
        "id": "zFkLGJ5p118y"
      },
      "id": "zFkLGJ5p118y",
      "execution_count": 1,
      "outputs": []
    },
    {
      "cell_type": "markdown",
      "source": [
        "**1.2 look at the class distribution of the movie reviews**"
      ],
      "metadata": {
        "id": "eWdYSe2xxxCz"
      },
      "id": "eWdYSe2xxxCz"
    },
    {
      "cell_type": "code",
      "execution_count": 2,
      "id": "2be173e3",
      "metadata": {
        "id": "2be173e3"
      },
      "outputs": [],
      "source": [
        "# code here"
      ]
    },
    {
      "cell_type": "markdown",
      "id": "12eae071-fd8a-4a46-9958-0525c635fd88",
      "metadata": {
        "id": "12eae071-fd8a-4a46-9958-0525c635fd88"
      },
      "source": [
        "**1.3) Create a development & test split (80/20 ratio):**"
      ]
    },
    {
      "cell_type": "code",
      "execution_count": 3,
      "id": "1a09323b",
      "metadata": {
        "id": "1a09323b"
      },
      "outputs": [],
      "source": [
        "# code here"
      ]
    },
    {
      "cell_type": "markdown",
      "id": "32b23398-e80e-4624-b89e-c02fabfd3f8d",
      "metadata": {
        "id": "32b23398-e80e-4624-b89e-c02fabfd3f8d"
      },
      "source": [
        "#### **Data preprocessing**\n",
        "We will do some data preprocessing before we tokenize the data. We will remove `#` symbol, hyperlinks, stop words & punctuations from the data. You may use `re` package for this. "
      ]
    },
    {
      "cell_type": "markdown",
      "id": "f89d9d69-1640-4583-a7b7-7ec04ccf3310",
      "metadata": {
        "id": "f89d9d69-1640-4583-a7b7-7ec04ccf3310"
      },
      "source": [
        "**1.4) Replace the `#` symbol with '' in every review**"
      ]
    },
    {
      "cell_type": "code",
      "execution_count": 4,
      "id": "5db4dd6d-e775-49d3-96e1-57620c042d46",
      "metadata": {
        "id": "5db4dd6d-e775-49d3-96e1-57620c042d46"
      },
      "outputs": [],
      "source": [
        "# code here"
      ]
    },
    {
      "cell_type": "markdown",
      "id": "24c4caa8-d71d-46a8-8859-a8e85c56acfe",
      "metadata": {
        "id": "24c4caa8-d71d-46a8-8859-a8e85c56acfe"
      },
      "source": [
        "**1.5) Replace hyperlinks with '' in every review**"
      ]
    },
    {
      "cell_type": "code",
      "execution_count": 5,
      "id": "ff5a7411-df49-427b-adef-5e8e63224db0",
      "metadata": {
        "id": "ff5a7411-df49-427b-adef-5e8e63224db0"
      },
      "outputs": [],
      "source": [
        "# code here"
      ]
    },
    {
      "cell_type": "markdown",
      "id": "492ae463-b611-4292-9ad2-b778856bf8bc",
      "metadata": {
        "id": "492ae463-b611-4292-9ad2-b778856bf8bc"
      },
      "source": [
        "**1.6) Remove all stop words**"
      ]
    },
    {
      "cell_type": "code",
      "execution_count": 6,
      "id": "961d73fd-a662-46f2-85a2-83bf6b978189",
      "metadata": {
        "id": "961d73fd-a662-46f2-85a2-83bf6b978189"
      },
      "outputs": [],
      "source": [
        "# code here"
      ]
    },
    {
      "cell_type": "markdown",
      "id": "169bf8ad-f7ba-4e67-a1a0-92fcdd193ab9",
      "metadata": {
        "id": "169bf8ad-f7ba-4e67-a1a0-92fcdd193ab9"
      },
      "source": [
        "**1.7) Remove all punctuations**"
      ]
    },
    {
      "cell_type": "code",
      "execution_count": 7,
      "id": "774743e0-8cf0-4dbb-a6fa-006ff076bb9e",
      "metadata": {
        "id": "774743e0-8cf0-4dbb-a6fa-006ff076bb9e"
      },
      "outputs": [],
      "source": [
        "# code here"
      ]
    },
    {
      "cell_type": "markdown",
      "id": "b2f1af18-0c07-4ffb-994e-daead4740a53",
      "metadata": {
        "id": "b2f1af18-0c07-4ffb-994e-daead4740a53"
      },
      "source": [
        "**1.8) Apply stemming on the development & test datasets using Porter algorithm**"
      ]
    },
    {
      "cell_type": "code",
      "execution_count": 9,
      "id": "c84a52f6-a62a-4033-8d1d-239ff6904248",
      "metadata": {
        "id": "c84a52f6-a62a-4033-8d1d-239ff6904248"
      },
      "outputs": [],
      "source": [
        "#code here\n"
      ]
    },
    {
      "cell_type": "markdown",
      "id": "687e23ef-dafd-4183-b2f1-86089e281dd8",
      "metadata": {
        "id": "687e23ef-dafd-4183-b2f1-86089e281dd8"
      },
      "source": [
        "#### **Model training**"
      ]
    },
    {
      "cell_type": "markdown",
      "id": "0c40fa44-01ad-4788-98b9-9c8f0c1252ef",
      "metadata": {
        "id": "0c40fa44-01ad-4788-98b9-9c8f0c1252ef"
      },
      "source": [
        "**1.9) Create bag of words features for each review in the development dataset**"
      ]
    },
    {
      "cell_type": "code",
      "execution_count": 10,
      "id": "c17c6b99-9dfb-4d30-9e03-d596a9da880a",
      "metadata": {
        "id": "c17c6b99-9dfb-4d30-9e03-d596a9da880a"
      },
      "outputs": [],
      "source": [
        "#code here\n"
      ]
    },
    {
      "cell_type": "markdown",
      "id": "4baf65cd-019b-4ff4-b93c-3ca8cfffca8e",
      "metadata": {
        "id": "4baf65cd-019b-4ff4-b93c-3ca8cfffca8e"
      },
      "source": [
        "**1.10) Train a Logistic Regression model on the development dataset**"
      ]
    },
    {
      "cell_type": "code",
      "execution_count": 11,
      "id": "3433a6b0-408d-462e-9072-3495b21bc97b",
      "metadata": {
        "id": "3433a6b0-408d-462e-9072-3495b21bc97b"
      },
      "outputs": [],
      "source": [
        "#code here\n"
      ]
    },
    {
      "cell_type": "markdown",
      "id": "1c16c6f6-7ab2-4d7a-b9dc-098a72381340",
      "metadata": {
        "id": "1c16c6f6-7ab2-4d7a-b9dc-098a72381340"
      },
      "source": [
        "**1.11) Create TF-IDF features for each review in the development dataset**"
      ]
    },
    {
      "cell_type": "code",
      "execution_count": 12,
      "id": "7b417843-ffc4-4614-b2ef-964f8ec3e510",
      "metadata": {
        "id": "7b417843-ffc4-4614-b2ef-964f8ec3e510"
      },
      "outputs": [],
      "source": [
        "#code here\n"
      ]
    },
    {
      "cell_type": "markdown",
      "id": "ea3c9776-aad9-4eda-b3c2-d9f6b3e52427",
      "metadata": {
        "id": "ea3c9776-aad9-4eda-b3c2-d9f6b3e52427"
      },
      "source": [
        "**1.12) Train the Logistic Regression model on the development dataset with TF-IDF features**"
      ]
    },
    {
      "cell_type": "code",
      "execution_count": 13,
      "id": "b8c7fe8b-61de-4daa-a338-74295a4902ce",
      "metadata": {
        "id": "b8c7fe8b-61de-4daa-a338-74295a4902ce"
      },
      "outputs": [],
      "source": [
        "#code here\n"
      ]
    },
    {
      "cell_type": "markdown",
      "id": "ab0129e7-a0ea-473e-9ad1-667b44a13a92",
      "metadata": {
        "id": "ab0129e7-a0ea-473e-9ad1-667b44a13a92"
      },
      "source": [
        "**1.13) Compare the performance of the two models on the test dataset. Explain the difference in results obtained?**"
      ]
    },
    {
      "cell_type": "code",
      "execution_count": 14,
      "id": "7ca644f9",
      "metadata": {
        "id": "7ca644f9"
      },
      "outputs": [],
      "source": [
        "#code here\n"
      ]
    }
  ],
  "metadata": {
    "colab": {
      "provenance": []
    },
    "kernelspec": {
      "display_name": "Python 3 (ipykernel)",
      "language": "python",
      "name": "python3"
    },
    "language_info": {
      "codemirror_mode": {
        "name": "ipython",
        "version": 3
      },
      "file_extension": ".py",
      "mimetype": "text/x-python",
      "name": "python",
      "nbconvert_exporter": "python",
      "pygments_lexer": "ipython3",
      "version": "3.9.7"
    }
  },
  "nbformat": 4,
  "nbformat_minor": 5
}