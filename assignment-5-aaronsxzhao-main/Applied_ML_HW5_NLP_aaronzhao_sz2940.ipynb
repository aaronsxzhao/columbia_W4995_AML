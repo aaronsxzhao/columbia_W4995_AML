{
 "cells": [
  {
   "cell_type": "markdown",
   "id": "d9bcdbd2-3401-41ad-a83f-830e9346e607",
   "metadata": {
    "id": "d9bcdbd2-3401-41ad-a83f-830e9346e607"
   },
   "source": [
    "# **Applied Machine Learning Homework 5**\n",
    "**Due 12 Dec,2022 (Monday) 11:59PM EST**"
   ]
  },
  {
   "cell_type": "markdown",
   "id": "70df26be-5638-4b0d-a252-4437eb76aa46",
   "metadata": {
    "id": "70df26be-5638-4b0d-a252-4437eb76aa46"
   },
   "source": [
    "### Natural Language Processing\n",
    "We will train a supervised model to predict if a movie has a positive or a negative review."
   ]
  },
  {
   "cell_type": "markdown",
   "id": "3e18598e",
   "metadata": {},
   "source": [
    "Name Aaron Zhao\n",
    "uni: sz2940"
   ]
  },
  {
   "cell_type": "markdown",
   "id": "2e0d9a19-25ea-4490-b0e8-7909bcdc3d9d",
   "metadata": {
    "id": "2e0d9a19-25ea-4490-b0e8-7909bcdc3d9d"
   },
   "source": [
    "####  **Dataset loading & dev/test splits**"
   ]
  },
  {
   "cell_type": "markdown",
   "id": "fafa37c4-c8fc-4697-9bbe-11539d710bf7",
   "metadata": {
    "id": "fafa37c4-c8fc-4697-9bbe-11539d710bf7"
   },
   "source": [
    "**1.0) Load the movie reviews dataset from NLTK library**"
   ]
  },
  {
   "cell_type": "code",
   "execution_count": 74,
   "id": "5f4ce405-237b-42d2-9c81-25ff28deaf4a",
   "metadata": {
    "colab": {
     "base_uri": "https://localhost:8080/"
    },
    "id": "5f4ce405-237b-42d2-9c81-25ff28deaf4a",
    "outputId": "46c1d8f9-5493-4df8-e40f-b62cf7bfbbfc"
   },
   "outputs": [
    {
     "name": "stderr",
     "output_type": "stream",
     "text": [
      "[nltk_data] Downloading package movie_reviews to\n",
      "[nltk_data]     /Users/imac/nltk_data...\n",
      "[nltk_data]   Package movie_reviews is already up-to-date!\n",
      "[nltk_data] Downloading package stopwords to /Users/imac/nltk_data...\n",
      "[nltk_data]   Package stopwords is already up-to-date!\n",
      "[nltk_data] Downloading package punkt to /Users/imac/nltk_data...\n",
      "[nltk_data]   Package punkt is already up-to-date!\n"
     ]
    }
   ],
   "source": [
    "import nltk\n",
    "nltk.download(\"movie_reviews\")\n",
    "import pandas as pd\n",
    "from nltk.corpus import twitter_samples \n",
    "from sklearn.model_selection import train_test_split\n",
    "from nltk.corpus import stopwords\n",
    "nltk.download('stopwords')\n",
    "nltk.download('punkt')\n",
    "stop = stopwords.words('english')\n",
    "import string\n",
    "import re\n",
    "from nltk.stem import PorterStemmer\n",
    "from nltk.tokenize import word_tokenize\n",
    "from sklearn.feature_extraction.text import CountVectorizer\n",
    "from sklearn.linear_model import LogisticRegression\n",
    "from sklearn.feature_extraction.text import TfidfVectorizer\n",
    "from nltk.corpus import movie_reviews"
   ]
  },
  {
   "cell_type": "code",
   "execution_count": 75,
   "id": "Nmt1nVaNpkKy",
   "metadata": {
    "id": "Nmt1nVaNpkKy"
   },
   "outputs": [],
   "source": [
    "negative_fileids = movie_reviews.fileids('neg')\n",
    "positive_fileids = movie_reviews.fileids('pos')\n",
    "\n",
    "pos_document = [(' '.join(movie_reviews.words(file_id)),category) for file_id in movie_reviews.fileids() for category in movie_reviews.categories(file_id) if category == 'pos']\n",
    "neg_document = [(' '.join(movie_reviews.words(file_id)),category) for file_id in movie_reviews.fileids() for category in movie_reviews.categories(file_id) if category == 'neg']\n",
    "\n",
    "# List of postive and negative reviews\n",
    "pos_list = [pos[0] for pos in pos_document]\n",
    "neg_list = [neg[0] for neg in neg_document]"
   ]
  },
  {
   "cell_type": "markdown",
   "id": "-B4xT6L714l2",
   "metadata": {
    "id": "-B4xT6L714l2"
   },
   "source": [
    "**1.1) Make a data frame that has reviews and its label**"
   ]
  },
  {
   "cell_type": "code",
   "execution_count": 76,
   "id": "zFkLGJ5p118y",
   "metadata": {
    "id": "zFkLGJ5p118y"
   },
   "outputs": [],
   "source": [
    "import pandas as pd \n",
    "\n",
    "pos_list_df = pd.DataFrame(pos_list, columns = ['Reviews'])\n",
    "pos_list_df['label'] = '1'\n",
    "\n",
    "neg_list_df = pd.DataFrame(neg_list, columns = ['Reviews'])\n",
    "neg_list_df['label'] = '0'\n",
    "\n",
    "review_df_frame = [pos_list_df, neg_list_df]\n",
    "review_df = pd.concat(review_df_frame,ignore_index=True,)"
   ]
  },
  {
   "cell_type": "markdown",
   "id": "eWdYSe2xxxCz",
   "metadata": {
    "id": "eWdYSe2xxxCz"
   },
   "source": [
    "**1.2 look at the class distribution of the movie reviews**"
   ]
  },
  {
   "cell_type": "code",
   "execution_count": 77,
   "id": "2be173e3",
   "metadata": {
    "id": "2be173e3"
   },
   "outputs": [
    {
     "data": {
      "text/plain": [
       "1    1000\n",
       "0    1000\n",
       "Name: label, dtype: int64"
      ]
     },
     "execution_count": 77,
     "metadata": {},
     "output_type": "execute_result"
    }
   ],
   "source": [
    "review_df['label'].value_counts()"
   ]
  },
  {
   "cell_type": "markdown",
   "id": "12eae071-fd8a-4a46-9958-0525c635fd88",
   "metadata": {
    "id": "12eae071-fd8a-4a46-9958-0525c635fd88"
   },
   "source": [
    "**1.3) Create a development & test split (80/20 ratio):**"
   ]
  },
  {
   "cell_type": "code",
   "execution_count": 261,
   "id": "1a09323b",
   "metadata": {
    "id": "1a09323b"
   },
   "outputs": [],
   "source": [
    "from sklearn.model_selection import train_test_split\n",
    "\n",
    "df_X_dev, df_X_test, df_y_dev, df_y_test = \\\n",
    "train_test_split(review_df['Reviews'] , review_df['label'], test_size = 0.2)"
   ]
  },
  {
   "cell_type": "markdown",
   "id": "32b23398-e80e-4624-b89e-c02fabfd3f8d",
   "metadata": {
    "id": "32b23398-e80e-4624-b89e-c02fabfd3f8d"
   },
   "source": [
    "#### **Data preprocessing**\n",
    "We will do some data preprocessing before we tokenize the data. We will remove `#` symbol, hyperlinks, stop words & punctuations from the data. You may use `re` package for this. "
   ]
  },
  {
   "cell_type": "markdown",
   "id": "f89d9d69-1640-4583-a7b7-7ec04ccf3310",
   "metadata": {
    "id": "f89d9d69-1640-4583-a7b7-7ec04ccf3310"
   },
   "source": [
    "**1.4) Replace the `#` symbol with '' in every review**"
   ]
  },
  {
   "cell_type": "code",
   "execution_count": 262,
   "id": "5db4dd6d-e775-49d3-96e1-57620c042d46",
   "metadata": {
    "id": "5db4dd6d-e775-49d3-96e1-57620c042d46"
   },
   "outputs": [
    {
     "name": "stdout",
     "output_type": "stream",
     "text": [
      "Processing df_X_dev\n",
      "List before replacing #: [1539, 328, 1819, 1916, 1970, 1384, 1730, 590, 442, 1693, 1511, 115, 934, 353, 735, 628, 1027, 1431, 37, 581, 701, 1690, 1831, 1645, 1087, 620, 466, 1016, 862, 1419, 812, 1136, 1517]\n",
      "List after replacing #: []\n",
      "\n",
      "Processing df_X_test\n",
      "List before replacing #: [432, 1942, 674, 1244, 1882, 1896, 1133, 146, 773, 529, 1353, 240]\n",
      "List after replacing #: []\n"
     ]
    }
   ],
   "source": [
    "import re\n",
    "\n",
    "# df_X_dev\n",
    "print('Processing df_X_dev')\n",
    "list_of_row_contains_hashtag = df_X_dev.index[df_X_dev.str.contains('#') == True].tolist()\n",
    "print('List before replacing #:',list_of_row_contains_hashtag)\n",
    "\n",
    "df_X_dev = df_X_dev.str.replace('\\#', '', regex=True)\n",
    "\n",
    "check = df_X_dev.index[df_X_dev.str.contains('#') == True].tolist()\n",
    "print('List after replacing #:',check)\n",
    "\n",
    "\n",
    "# df_X_test\n",
    "print('\\nProcessing df_X_test')\n",
    "list_of_row_contains_hashtag = df_X_test.index[df_X_test.str.contains('#') == True].tolist()\n",
    "print('List before replacing #:',list_of_row_contains_hashtag)\n",
    "\n",
    "df_X_test = df_X_test.str.replace('\\#', '', regex=True)\n",
    "\n",
    "check = df_X_test.index[df_X_test.str.contains('#') == True].tolist()\n",
    "print('List after replacing #:',check)\n",
    "\n"
   ]
  },
  {
   "cell_type": "markdown",
   "id": "24c4caa8-d71d-46a8-8859-a8e85c56acfe",
   "metadata": {
    "id": "24c4caa8-d71d-46a8-8859-a8e85c56acfe"
   },
   "source": [
    "**1.5) Replace hyperlinks with '' in every review**"
   ]
  },
  {
   "cell_type": "code",
   "execution_count": 263,
   "id": "ff5a7411-df49-427b-adef-5e8e63224db0",
   "metadata": {
    "id": "ff5a7411-df49-427b-adef-5e8e63224db0"
   },
   "outputs": [
    {
     "name": "stdout",
     "output_type": "stream",
     "text": [
      "Processing df_X_dev\n",
      "List before replacing http: [455, 860, 82, 945, 1536, 1510, 220]\n",
      "List after replacing http: []\n",
      "\n",
      "Processing df_X_test\n",
      "List before replacing http: [953, 1488]\n",
      "List after replacing http: []\n"
     ]
    }
   ],
   "source": [
    "# df_X_dev\n",
    "print('Processing df_X_dev')\n",
    "list_of_row_contains_hyperlinks = df_X_dev.index[df_X_dev.str.contains('http') == True].tolist()\n",
    "print('List before replacing http:', list_of_row_contains_hyperlinks)\n",
    "\n",
    "df_X_dev = df_X_dev.str.replace(r'(\\s*https? : \\/\\/ (\\S*) \\. (\\S*)( \\/ (\\S+))* )',\n",
    "                                '', regex = True).str.strip()\n",
    "\n",
    "check = df_X_dev.index[df_X_dev.str.contains('http') == True].tolist()\n",
    "print('List after replacing http:', check)\n",
    "\n",
    "# df_X_test\n",
    "print('\\nProcessing df_X_test')\n",
    "list_of_row_contains_hyperlinks = df_X_test.index[df_X_test.str.contains('http') == True].tolist()\n",
    "print('List before replacing http:', list_of_row_contains_hyperlinks)\n",
    "\n",
    "df_X_test = df_X_test.str.replace(r'(\\s*https? : \\/\\/ (\\S*) \\. (\\S*)( \\/ (\\S+))* )',\n",
    "                                  '', regex = True).str.strip()\n",
    "\n",
    "check = df_X_test.index[df_X_test.str.contains('http') == True].tolist()\n",
    "print('List after replacing http:', check)"
   ]
  },
  {
   "cell_type": "markdown",
   "id": "492ae463-b611-4292-9ad2-b778856bf8bc",
   "metadata": {
    "id": "492ae463-b611-4292-9ad2-b778856bf8bc"
   },
   "source": [
    "**1.6) Remove all stop words**"
   ]
  },
  {
   "cell_type": "code",
   "execution_count": 264,
   "id": "961d73fd-a662-46f2-85a2-83bf6b978189",
   "metadata": {
    "id": "961d73fd-a662-46f2-85a2-83bf6b978189"
   },
   "outputs": [
    {
     "name": "stdout",
     "output_type": "stream",
     "text": [
      "stop words:  \\bi\\b|\\bme\\b|\\bmy\\b|\\bmyself\\b|\\bwe\\b|\\bour\\b|\\bours\\b|\\bourselves\\b|\\byou\\b|\\byou're\\b|\\byou've\\b|\\byou'll\\b|\\byou'd\\b|\\byour\\b|\\byours\\b|\\byourself\\b|\\byourselves\\b|\\bhe\\b|\\bhim\\b|\\bhis\\b|\\bhimself\\b|\\bshe\\b|\\bshe's\\b|\\bher\\b|\\bhers\\b|\\bherself\\b|\\bit\\b|\\bit's\\b|\\bits\\b|\\bitself\\b|\\bthey\\b|\\bthem\\b|\\btheir\\b|\\btheirs\\b|\\bthemselves\\b|\\bwhat\\b|\\bwhich\\b|\\bwho\\b|\\bwhom\\b|\\bthis\\b|\\bthat\\b|\\bthat'll\\b|\\bthese\\b|\\bthose\\b|\\bam\\b|\\bis\\b|\\bare\\b|\\bwas\\b|\\bwere\\b|\\bbe\\b|\\bbeen\\b|\\bbeing\\b|\\bhave\\b|\\bhas\\b|\\bhad\\b|\\bhaving\\b|\\bdo\\b|\\bdoes\\b|\\bdid\\b|\\bdoing\\b|\\ba\\b|\\ban\\b|\\bthe\\b|\\band\\b|\\bbut\\b|\\bif\\b|\\bor\\b|\\bbecause\\b|\\bas\\b|\\buntil\\b|\\bwhile\\b|\\bof\\b|\\bat\\b|\\bby\\b|\\bfor\\b|\\bwith\\b|\\babout\\b|\\bagainst\\b|\\bbetween\\b|\\binto\\b|\\bthrough\\b|\\bduring\\b|\\bbefore\\b|\\bafter\\b|\\babove\\b|\\bbelow\\b|\\bto\\b|\\bfrom\\b|\\bup\\b|\\bdown\\b|\\bin\\b|\\bout\\b|\\bon\\b|\\boff\\b|\\bover\\b|\\bunder\\b|\\bagain\\b|\\bfurther\\b|\\bthen\\b|\\bonce\\b|\\bhere\\b|\\bthere\\b|\\bwhen\\b|\\bwhere\\b|\\bwhy\\b|\\bhow\\b|\\ball\\b|\\bany\\b|\\bboth\\b|\\beach\\b|\\bfew\\b|\\bmore\\b|\\bmost\\b|\\bother\\b|\\bsome\\b|\\bsuch\\b|\\bno\\b|\\bnor\\b|\\bnot\\b|\\bonly\\b|\\bown\\b|\\bsame\\b|\\bso\\b|\\bthan\\b|\\btoo\\b|\\bvery\\b|\\bs\\b|\\bt\\b|\\bcan\\b|\\bwill\\b|\\bjust\\b|\\bdon\\b|\\bdon't\\b|\\bshould\\b|\\bshould've\\b|\\bnow\\b|\\bd\\b|\\bll\\b|\\bm\\b|\\bo\\b|\\bre\\b|\\bve\\b|\\by\\b|\\bain\\b|\\baren\\b|\\baren't\\b|\\bcouldn\\b|\\bcouldn't\\b|\\bdidn\\b|\\bdidn't\\b|\\bdoesn\\b|\\bdoesn't\\b|\\bhadn\\b|\\bhadn't\\b|\\bhasn\\b|\\bhasn't\\b|\\bhaven\\b|\\bhaven't\\b|\\bisn\\b|\\bisn't\\b|\\bma\\b|\\bmightn\\b|\\bmightn't\\b|\\bmustn\\b|\\bmustn't\\b|\\bneedn\\b|\\bneedn't\\b|\\bshan\\b|\\bshan't\\b|\\bshouldn\\b|\\bshouldn't\\b|\\bwasn\\b|\\bwasn't\\b|\\bweren\\b|\\bweren't\\b|\\bwon\\b|\\bwon't\\b|\\bwouldn\\b|\\bwouldn't\\b\n",
      "Processing df_X_dev\n",
      "List before replacing stop words: 1600\n",
      "List after replacing stop words: 0\n",
      "\n",
      "Processing df_X_test\n",
      "List before replacing stop words: 400\n",
      "List after replacing stop words: 0\n"
     ]
    }
   ],
   "source": [
    "from nltk.corpus import stopwords\n",
    "\n",
    "stops = stopwords.words(\"english\")\n",
    "\n",
    "stops = '|'.join(\"%s%s%s\"%('\\\\b',p,'\\\\b') for p in stops)\n",
    "print('stop words: ', stops)\n",
    "\n",
    "# df_X_dev\n",
    "print('Processing df_X_dev')\n",
    "\n",
    "list_of_row_contains_stopword = df_X_dev.index[df_X_dev.str.contains(stops) == True].tolist()\n",
    "print('List before replacing stop words:', len(list_of_row_contains_stopword))\n",
    "\n",
    "df_X_dev = df_X_dev.str.replace(r'\\b' + stops, ' ', regex = True)\n",
    "\n",
    "check = df_X_dev.index[df_X_dev.str.contains(stops) == True].tolist()\n",
    "print('List after replacing stop words:', len(check))\n",
    "\n",
    "# df_X_test\n",
    "print('\\nProcessing df_X_test')\n",
    "list_of_row_contains_stopword = df_X_test.index[df_X_test.str.contains(stops) == True].tolist()\n",
    "print('List before replacing stop words:', len(list_of_row_contains_stopword))\n",
    "\n",
    "df_X_test = df_X_test.str.replace(r'\\b' + stops, ' ', regex = True)\n",
    "\n",
    "check = df_X_test.index[df_X_test.str.contains(stops) == True].tolist()\n",
    "print('List after replacing stop words:', len(check))"
   ]
  },
  {
   "cell_type": "markdown",
   "id": "169bf8ad-f7ba-4e67-a1a0-92fcdd193ab9",
   "metadata": {
    "id": "169bf8ad-f7ba-4e67-a1a0-92fcdd193ab9"
   },
   "source": [
    "**1.7) Remove all punctuations**"
   ]
  },
  {
   "cell_type": "code",
   "execution_count": 265,
   "id": "774743e0-8cf0-4dbb-a6fa-006ff076bb9e",
   "metadata": {
    "id": "774743e0-8cf0-4dbb-a6fa-006ff076bb9e"
   },
   "outputs": [
    {
     "name": "stdout",
     "output_type": "stream",
     "text": [
      "Processing df_X_dev\n",
      "List before replacing punctuation: 1600\n",
      "List after replacing punctuation: 0\n",
      "\n",
      "Processing df_X_test\n",
      "List before replacing punctuation: 400\n",
      "List after replacing punctuation: 0\n"
     ]
    }
   ],
   "source": [
    "# df_X_dev\n",
    "print('Processing df_X_dev')\n",
    "\n",
    "list_of_row_contains_punctuation = df_X_dev.index[df_X_dev.str.contains('[^\\w\\s]') == True].tolist()\n",
    "print('List before replacing punctuation:', len(list_of_row_contains_punctuation))\n",
    "\n",
    "df_X_dev = df_X_dev.str.replace('[^\\w\\s]', '', regex = True).str.strip()\n",
    "\n",
    "check = df_X_dev.index[df_X_dev.str.contains('[^\\w\\s]') == True].tolist()\n",
    "print('List after replacing punctuation:', len(check))\n",
    "\n",
    "# df_X_test\n",
    "print('\\nProcessing df_X_test')\n",
    "\n",
    "list_of_row_contains_punctuation = df_X_test.index[df_X_test.str.contains('[^\\w\\s]') == True].tolist()\n",
    "print('List before replacing punctuation:', len(list_of_row_contains_punctuation))\n",
    "\n",
    "df_X_test = df_X_test.str.replace('[^\\w\\s]', '', regex = True).str.strip()\n",
    "\n",
    "check = df_X_test.index[df_X_test.str.contains('[^\\w\\s]') == True].tolist()\n",
    "print('List after replacing punctuation:', len(check))"
   ]
  },
  {
   "cell_type": "markdown",
   "id": "b2f1af18-0c07-4ffb-994e-daead4740a53",
   "metadata": {
    "id": "b2f1af18-0c07-4ffb-994e-daead4740a53"
   },
   "source": [
    "**1.8) Apply stemming on the development & test datasets using Porter algorithm**"
   ]
  },
  {
   "cell_type": "code",
   "execution_count": 266,
   "id": "c84a52f6-a62a-4033-8d1d-239ff6904248",
   "metadata": {
    "id": "c84a52f6-a62a-4033-8d1d-239ff6904248"
   },
   "outputs": [
    {
     "name": "stdout",
     "output_type": "stream",
     "text": [
      "dev done processing\n",
      "test done processing\n"
     ]
    }
   ],
   "source": [
    "from nltk.stem import PorterStemmer\n",
    "from nltk.tokenize import sent_tokenize, word_tokenize\n",
    "\n",
    "\n",
    "def stemSentence(sentence):\n",
    "    token_words=word_tokenize(sentence)\n",
    "    stem_sentence=[porter.stem(word) for word in token_words]\n",
    "    return \" \".join(stem_sentence)\n",
    "\n",
    "porter = PorterStemmer()\n",
    "df_X_dev = [stemSentence(review) for review in df_X_dev]\n",
    "\n",
    "print('dev done processing')\n",
    "df_X_test = [stemSentence(review) for review in df_X_test]\n",
    "print('test done processing')"
   ]
  },
  {
   "cell_type": "markdown",
   "id": "687e23ef-dafd-4183-b2f1-86089e281dd8",
   "metadata": {
    "id": "687e23ef-dafd-4183-b2f1-86089e281dd8"
   },
   "source": [
    "#### **Model training**"
   ]
  },
  {
   "cell_type": "markdown",
   "id": "0c40fa44-01ad-4788-98b9-9c8f0c1252ef",
   "metadata": {
    "id": "0c40fa44-01ad-4788-98b9-9c8f0c1252ef"
   },
   "source": [
    "**1.9) Create bag of words features for each review in the development dataset**"
   ]
  },
  {
   "cell_type": "code",
   "execution_count": 279,
   "id": "c17c6b99-9dfb-4d30-9e03-d596a9da880a",
   "metadata": {
    "id": "c17c6b99-9dfb-4d30-9e03-d596a9da880a"
   },
   "outputs": [],
   "source": [
    "from sklearn.feature_extraction.text import CountVectorizer\n",
    "counter = CountVectorizer()\n",
    "X_dev_bow = counter.fit_transform(df_X_dev)\n",
    "X_test_bow = counter.transform(df_X_test)"
   ]
  },
  {
   "cell_type": "markdown",
   "id": "4baf65cd-019b-4ff4-b93c-3ca8cfffca8e",
   "metadata": {
    "id": "4baf65cd-019b-4ff4-b93c-3ca8cfffca8e"
   },
   "source": [
    "**1.10) Train a Logistic Regression model on the development dataset**"
   ]
  },
  {
   "cell_type": "code",
   "execution_count": 280,
   "id": "3433a6b0-408d-462e-9072-3495b21bc97b",
   "metadata": {
    "id": "3433a6b0-408d-462e-9072-3495b21bc97b"
   },
   "outputs": [
    {
     "data": {
      "text/plain": [
       "0.8625"
      ]
     },
     "execution_count": 280,
     "metadata": {},
     "output_type": "execute_result"
    }
   ],
   "source": [
    "from sklearn.linear_model import LogisticRegressionCV\n",
    "lr_bow = LogisticRegressionCV().fit(X_dev_bow,df_y_dev)\n",
    "lr_bow.score(X_test_bow,df_y_test)"
   ]
  },
  {
   "cell_type": "markdown",
   "id": "1c16c6f6-7ab2-4d7a-b9dc-098a72381340",
   "metadata": {
    "id": "1c16c6f6-7ab2-4d7a-b9dc-098a72381340"
   },
   "source": [
    "**1.11) Create TF-IDF features for each review in the development dataset**"
   ]
  },
  {
   "cell_type": "code",
   "execution_count": 281,
   "id": "7b417843-ffc4-4614-b2ef-964f8ec3e510",
   "metadata": {
    "id": "7b417843-ffc4-4614-b2ef-964f8ec3e510"
   },
   "outputs": [],
   "source": [
    "from sklearn.feature_extraction.text import TfidfVectorizer\n",
    "tfidf= TfidfVectorizer()\n",
    "X_dev_tf = tfidf.fit_transform(df_X_dev)\n",
    "X_test_tf = tfidf.transform(df_X_test)"
   ]
  },
  {
   "cell_type": "markdown",
   "id": "ea3c9776-aad9-4eda-b3c2-d9f6b3e52427",
   "metadata": {
    "id": "ea3c9776-aad9-4eda-b3c2-d9f6b3e52427"
   },
   "source": [
    "**1.12) Train the Logistic Regression model on the development dataset with TF-IDF features**"
   ]
  },
  {
   "cell_type": "code",
   "execution_count": 282,
   "id": "b8c7fe8b-61de-4daa-a338-74295a4902ce",
   "metadata": {
    "id": "b8c7fe8b-61de-4daa-a338-74295a4902ce"
   },
   "outputs": [
    {
     "data": {
      "text/plain": [
       "0.865"
      ]
     },
     "execution_count": 282,
     "metadata": {},
     "output_type": "execute_result"
    }
   ],
   "source": [
    "lr_tf = LogisticRegressionCV().fit(X_dev_tf,df_y_dev)\n",
    "lr_tf.score(X_test_tf,df_y_test)"
   ]
  },
  {
   "cell_type": "markdown",
   "id": "ab0129e7-a0ea-473e-9ad1-667b44a13a92",
   "metadata": {
    "id": "ab0129e7-a0ea-473e-9ad1-667b44a13a92"
   },
   "source": [
    "**1.13) Compare the performance of the two models on the test dataset. Explain the difference in results obtained?**"
   ]
  },
  {
   "cell_type": "code",
   "execution_count": 283,
   "id": "7ca644f9",
   "metadata": {
    "id": "7ca644f9"
   },
   "outputs": [
    {
     "name": "stdout",
     "output_type": "stream",
     "text": [
      "Accuracy of Bag of Word Model : 0.8625\n",
      "Accuracy of TFIDF Model : 0.865\n"
     ]
    },
    {
     "data": {
      "image/png": "[encoded data removed]",
      "text/plain": [
       "<Figure size 864x288 with 4 Axes>"
      ]
     },
     "metadata": {
      "needs_background": "light"
     },
     "output_type": "display_data"
    }
   ],
   "source": [
    "import matplotlib.pyplot as plt\n",
    "from sklearn.metrics import ConfusionMatrixDisplay\n",
    "fig, ax = plt.subplots(ncols = 2, figsize = (12,4))\n",
    "ConfusionMatrixDisplay.from_estimator(lr_bow, X_test_bow,df_y_test, ax = ax[0])\n",
    "ax[0].set_title('Confusion Matrix for Bag of Word Model')\n",
    "ConfusionMatrixDisplay.from_estimator(lr_tf, X_test_tf,df_y_test, ax = ax[1])\n",
    "ax[1].set_title('Confusion Matrix for TFIDF Model')\n",
    "print(\"Accuracy of Bag of Word Model : {}\".format(lr_bow.score(X_test_bow,df_y_test)))\n",
    "print(\"Accuracy of TFIDF Model : {}\".format(lr_tf.score(X_test_tf,df_y_test)))"
   ]
  },
  {
   "cell_type": "markdown",
   "id": "9a029bf7",
   "metadata": {},
   "source": [
    "From the confusion matrices, the outcomes are almost the same but the tf-idf has a slighty better prediction"
   ]
  }
 ],
 "metadata": {
  "colab": {
   "provenance": []
  },
  "kernelspec": {
   "display_name": "Python 3 (ipykernel)",
   "language": "python",
   "name": "python3"
  },
  "language_info": {
   "codemirror_mode": {
    "name": "ipython",
    "version": 3
   },
   "file_extension": ".py",
   "mimetype": "text/x-python",
   "name": "python",
   "nbconvert_exporter": "python",
   "pygments_lexer": "ipython3",
   "version": "3.9.7"
  },
  "vscode": {
   "interpreter": {
    "hash": "d7aaeb7f15a159f3dee38b11df82f96c78d6e6bd203ca09deae6eae3e6e2f6b7"
   }
  }
 },
 "nbformat": 4,
 "nbformat_minor": 5
}
